{
 "cells": [
  {
   "cell_type": "code",
   "execution_count": 1,
   "metadata": {},
   "outputs": [],
   "source": [
    "import re\n",
    "import math\n",
    "import pandas as pd\n",
    "import numpy as np\n",
    "import seaborn as sns\n",
    "import matplotlib.pyplot as plt\n"
   ]
  },
  {
   "cell_type": "code",
   "execution_count": 2,
   "metadata": {},
   "outputs": [],
   "source": [
    "#load rental properties data\n",
    "df = pd.read_json('../data/raw_data/properties.json').T"
   ]
  },
  {
   "cell_type": "code",
   "execution_count": 3,
   "metadata": {},
   "outputs": [],
   "source": [
    "#drop any duplicate instances\n",
    "df = df[~df.index.duplicated(keep = 'first')]"
   ]
  },
  {
   "cell_type": "code",
   "execution_count": 4,
   "metadata": {},
   "outputs": [
    {
     "data": {
      "text/plain": [
       "(15236, 10)"
      ]
     },
     "execution_count": 4,
     "metadata": {},
     "output_type": "execute_result"
    }
   ],
   "source": [
    "df.shape"
   ]
  },
  {
   "cell_type": "code",
   "execution_count": 5,
   "metadata": {},
   "outputs": [
    {
     "data": {
      "text/html": [
       "<div>\n",
       "<style scoped>\n",
       "    .dataframe tbody tr th:only-of-type {\n",
       "        vertical-align: middle;\n",
       "    }\n",
       "\n",
       "    .dataframe tbody tr th {\n",
       "        vertical-align: top;\n",
       "    }\n",
       "\n",
       "    .dataframe thead th {\n",
       "        text-align: right;\n",
       "    }\n",
       "</style>\n",
       "<table border=\"1\" class=\"dataframe\">\n",
       "  <thead>\n",
       "    <tr style=\"text-align: right;\">\n",
       "      <th></th>\n",
       "      <th>name</th>\n",
       "      <th>cost_text</th>\n",
       "      <th>coordinates</th>\n",
       "      <th>rooms</th>\n",
       "      <th>area</th>\n",
       "      <th>type</th>\n",
       "      <th>bond</th>\n",
       "      <th>features</th>\n",
       "      <th>unverified_features</th>\n",
       "      <th>desc</th>\n",
       "    </tr>\n",
       "  </thead>\n",
       "  <tbody>\n",
       "    <tr>\n",
       "      <th>https://www.domain.com.au/16b-sandy-mount-avenue-inverloch-vic-3996-16006035</th>\n",
       "      <td>16B Sandy Mount Avenue Inverloch VIC 3996</td>\n",
       "      <td>$400.00 per week</td>\n",
       "      <td>[-38.6340011, 145.725239]</td>\n",
       "      <td>[[2 Beds], [1 Bath], [1 Parking]]</td>\n",
       "      <td>None</td>\n",
       "      <td>House</td>\n",
       "      <td>1738</td>\n",
       "      <td>[]</td>\n",
       "      <td>[Built in wardrobes, Internal Laundry, Secure ...</td>\n",
       "      <td>[This spacious, two bedroom townhouse is perfe...</td>\n",
       "    </tr>\n",
       "    <tr>\n",
       "      <th>https://www.domain.com.au/28-beachcomber-drive-inverloch-vic-3996-15920343</th>\n",
       "      <td>28 Beachcomber Drive Inverloch VIC 3996</td>\n",
       "      <td>$550 wk</td>\n",
       "      <td>[-38.6412502, 145.7031282]</td>\n",
       "      <td>[[4 Beds], [2 Baths], []]</td>\n",
       "      <td>None</td>\n",
       "      <td>House</td>\n",
       "      <td>2390</td>\n",
       "      <td>[]</td>\n",
       "      <td>[Gas, Internal Laundry, Secure Parking, Furnis...</td>\n",
       "      <td>[The popular Beachcomber estate offers you mod...</td>\n",
       "    </tr>\n",
       "    <tr>\n",
       "      <th>https://www.domain.com.au/14-inverloch-parade-inverloch-vic-3996-16040296</th>\n",
       "      <td>14 Inverloch Parade Inverloch VIC 3996</td>\n",
       "      <td>$420 wk</td>\n",
       "      <td>[-38.6287143, 145.7358082]</td>\n",
       "      <td>[[2 Beds], [1 Bath], []]</td>\n",
       "      <td>None</td>\n",
       "      <td>House</td>\n",
       "      <td>1820</td>\n",
       "      <td>[Garden, Split System AC, Floorboards]</td>\n",
       "      <td>[Internal Laundry, Heating]</td>\n",
       "      <td>[This two bedroom, 1 bathroom home will surely...</td>\n",
       "    </tr>\n",
       "    <tr>\n",
       "      <th>https://www.domain.com.au/inverloch-vic-3996-14434367</th>\n",
       "      <td>Inverloch VIC 3996</td>\n",
       "      <td>$475 wk</td>\n",
       "      <td>[-38.6314613, 145.7293638]</td>\n",
       "      <td>[[3 Beds], [2 Baths], [1 Parking]]</td>\n",
       "      <td>None</td>\n",
       "      <td>House</td>\n",
       "      <td>2065</td>\n",
       "      <td>[Ensuite, Garden, Split System AC, Outdoor Ent...</td>\n",
       "      <td>[Heating]</td>\n",
       "      <td>[Neat 3 bedroom home located in the immaculate...</td>\n",
       "    </tr>\n",
       "    <tr>\n",
       "      <th>https://www.domain.com.au/64-dixon-street-inverloch-vic-3996-15951739</th>\n",
       "      <td>64 Dixon Street Inverloch VIC 3996</td>\n",
       "      <td>Contact Agent</td>\n",
       "      <td>[-38.6313719, 145.717275]</td>\n",
       "      <td>[[1 Bed], [1 Bath], []]</td>\n",
       "      <td>200</td>\n",
       "      <td>House</td>\n",
       "      <td>200</td>\n",
       "      <td>[Solar panels]</td>\n",
       "      <td>[]</td>\n",
       "      <td>[- Street frontage with excellent exposure- Ap...</td>\n",
       "    </tr>\n",
       "  </tbody>\n",
       "</table>\n",
       "</div>"
      ],
      "text/plain": [
       "                                                                                         name  \\\n",
       "https://www.domain.com.au/16b-sandy-mount-avenu...  16B Sandy Mount Avenue Inverloch VIC 3996   \n",
       "https://www.domain.com.au/28-beachcomber-drive-...    28 Beachcomber Drive Inverloch VIC 3996   \n",
       "https://www.domain.com.au/14-inverloch-parade-i...     14 Inverloch Parade Inverloch VIC 3996   \n",
       "https://www.domain.com.au/inverloch-vic-3996-14...                         Inverloch VIC 3996   \n",
       "https://www.domain.com.au/64-dixon-street-inver...         64 Dixon Street Inverloch VIC 3996   \n",
       "\n",
       "                                                           cost_text  \\\n",
       "https://www.domain.com.au/16b-sandy-mount-avenu...  $400.00 per week   \n",
       "https://www.domain.com.au/28-beachcomber-drive-...           $550 wk   \n",
       "https://www.domain.com.au/14-inverloch-parade-i...           $420 wk   \n",
       "https://www.domain.com.au/inverloch-vic-3996-14...           $475 wk   \n",
       "https://www.domain.com.au/64-dixon-street-inver...     Contact Agent   \n",
       "\n",
       "                                                                   coordinates  \\\n",
       "https://www.domain.com.au/16b-sandy-mount-avenu...   [-38.6340011, 145.725239]   \n",
       "https://www.domain.com.au/28-beachcomber-drive-...  [-38.6412502, 145.7031282]   \n",
       "https://www.domain.com.au/14-inverloch-parade-i...  [-38.6287143, 145.7358082]   \n",
       "https://www.domain.com.au/inverloch-vic-3996-14...  [-38.6314613, 145.7293638]   \n",
       "https://www.domain.com.au/64-dixon-street-inver...   [-38.6313719, 145.717275]   \n",
       "\n",
       "                                                                                 rooms  \\\n",
       "https://www.domain.com.au/16b-sandy-mount-avenu...   [[2 Beds], [1 Bath], [1 Parking]]   \n",
       "https://www.domain.com.au/28-beachcomber-drive-...           [[4 Beds], [2 Baths], []]   \n",
       "https://www.domain.com.au/14-inverloch-parade-i...            [[2 Beds], [1 Bath], []]   \n",
       "https://www.domain.com.au/inverloch-vic-3996-14...  [[3 Beds], [2 Baths], [1 Parking]]   \n",
       "https://www.domain.com.au/64-dixon-street-inver...             [[1 Bed], [1 Bath], []]   \n",
       "\n",
       "                                                    area   type  bond  \\\n",
       "https://www.domain.com.au/16b-sandy-mount-avenu...  None  House  1738   \n",
       "https://www.domain.com.au/28-beachcomber-drive-...  None  House  2390   \n",
       "https://www.domain.com.au/14-inverloch-parade-i...  None  House  1820   \n",
       "https://www.domain.com.au/inverloch-vic-3996-14...  None  House  2065   \n",
       "https://www.domain.com.au/64-dixon-street-inver...   200  House   200   \n",
       "\n",
       "                                                                                             features  \\\n",
       "https://www.domain.com.au/16b-sandy-mount-avenu...                                                 []   \n",
       "https://www.domain.com.au/28-beachcomber-drive-...                                                 []   \n",
       "https://www.domain.com.au/14-inverloch-parade-i...             [Garden, Split System AC, Floorboards]   \n",
       "https://www.domain.com.au/inverloch-vic-3996-14...  [Ensuite, Garden, Split System AC, Outdoor Ent...   \n",
       "https://www.domain.com.au/64-dixon-street-inver...                                     [Solar panels]   \n",
       "\n",
       "                                                                                  unverified_features  \\\n",
       "https://www.domain.com.au/16b-sandy-mount-avenu...  [Built in wardrobes, Internal Laundry, Secure ...   \n",
       "https://www.domain.com.au/28-beachcomber-drive-...  [Gas, Internal Laundry, Secure Parking, Furnis...   \n",
       "https://www.domain.com.au/14-inverloch-parade-i...                        [Internal Laundry, Heating]   \n",
       "https://www.domain.com.au/inverloch-vic-3996-14...                                          [Heating]   \n",
       "https://www.domain.com.au/64-dixon-street-inver...                                                 []   \n",
       "\n",
       "                                                                                                 desc  \n",
       "https://www.domain.com.au/16b-sandy-mount-avenu...  [This spacious, two bedroom townhouse is perfe...  \n",
       "https://www.domain.com.au/28-beachcomber-drive-...  [The popular Beachcomber estate offers you mod...  \n",
       "https://www.domain.com.au/14-inverloch-parade-i...  [This two bedroom, 1 bathroom home will surely...  \n",
       "https://www.domain.com.au/inverloch-vic-3996-14...  [Neat 3 bedroom home located in the immaculate...  \n",
       "https://www.domain.com.au/64-dixon-street-inver...  [- Street frontage with excellent exposure- Ap...  "
      ]
     },
     "execution_count": 5,
     "metadata": {},
     "output_type": "execute_result"
    }
   ],
   "source": [
    "df.tail()"
   ]
  },
  {
   "cell_type": "code",
   "execution_count": 6,
   "metadata": {},
   "outputs": [],
   "source": [
    "#extract postcode form the location of each property\n",
    "df[\"postcode\"] = df[\"name\"].apply(lambda x : int(x[-4:]))"
   ]
  },
  {
   "cell_type": "code",
   "execution_count": 7,
   "metadata": {},
   "outputs": [],
   "source": [
    "#extract suburb from the location of each property\n",
    "df[\"suburb\"] = df[\"name\"].apply(lambda x : ' '.join(x.split()[-3:]))"
   ]
  },
  {
   "cell_type": "code",
   "execution_count": 8,
   "metadata": {},
   "outputs": [],
   "source": [
    "#extract costs\n",
    "df[\"costs\"] = df[\"cost_text\"].str.extract(r'(\\d+\\,*\\d*)')"
   ]
  },
  {
   "cell_type": "code",
   "execution_count": 9,
   "metadata": {},
   "outputs": [],
   "source": [
    "#drop \",\" in costs \n",
    "df[\"costs\"] = df[\"costs\"].apply(lambda x : str(x).replace(',', ''))"
   ]
  },
  {
   "cell_type": "code",
   "execution_count": 10,
   "metadata": {},
   "outputs": [],
   "source": [
    "#extract number of bedrooms,number of bathrooms and number of parking spots\n",
    "\n",
    "rooms = [\"beds\",\"baths\",\"parking\"]\n",
    "for i in range(len(rooms)):\n",
    "    df[rooms[i]] = df[\"rooms\"].str[i].str[0].str.extract(r'(\\d+)')\n",
    "    df[rooms[i]] = df[rooms[i]].fillna(0)\n"
   ]
  },
  {
   "cell_type": "code",
   "execution_count": 11,
   "metadata": {},
   "outputs": [],
   "source": [
    "#After extracting the features of number of beds, baths and parking, drop the \"rooms\" column\n",
    "df.drop(\"rooms\", axis=1, inplace=True)"
   ]
  },
  {
   "cell_type": "code",
   "execution_count": 12,
   "metadata": {},
   "outputs": [
    {
     "data": {
      "text/plain": [
       "House                            7400\n",
       "Apartment / Unit / Flat          5944\n",
       "Townhouse                        1601\n",
       "Studio                            183\n",
       "Villa                              42\n",
       "Acreage / Semi-Rural               15\n",
       "Semi-Detached                      12\n",
       "Terrace                             8\n",
       "Carspace                            8\n",
       "New Apartments / Off the Plan       6\n",
       "Duplex                              4\n",
       "Vacant land                         3\n",
       "Retirement                          3\n",
       "Rural                               2\n",
       "Farm                                2\n",
       "Penthouse                           1\n",
       "New House & Land                    1\n",
       "Block of Units                      1\n",
       "Name: type, dtype: int64"
      ]
     },
     "execution_count": 12,
     "metadata": {},
     "output_type": "execute_result"
    }
   ],
   "source": [
    "#check all possible type of properties, we see that the type distribution is quite unbalanced, and obviously types like carspace, block of units\n",
    "#are definitely not what we the objects we are analysing for\n",
    "df.type.value_counts()"
   ]
  },
  {
   "cell_type": "code",
   "execution_count": 13,
   "metadata": {},
   "outputs": [],
   "source": [
    "#we only leave the type - House, Apartment/Unit/Flat and town house as they are the most general type and more suitable for modeling\n",
    "df = df[(df[\"type\"] == \"House\") | (df[\"type\"] == \"Apartment / Unit / Flat\") | (df[\"type\"] == \"Townhouse\")]"
   ]
  },
  {
   "cell_type": "code",
   "execution_count": 14,
   "metadata": {},
   "outputs": [],
   "source": [
    "#convert data type to numeric\n",
    "df[[\"costs\", \"bond\",\"beds\",\"baths\",\"parking\"]] = df[[\"costs\",\"bond\",\"beds\",\"baths\",\"parking\"]].apply(pd.to_numeric,errors='coerce')"
   ]
  },
  {
   "cell_type": "code",
   "execution_count": 15,
   "metadata": {},
   "outputs": [
    {
     "data": {
      "text/plain": [
       "name                       0\n",
       "cost_text                  0\n",
       "coordinates                0\n",
       "area                   14016\n",
       "type                       0\n",
       "bond                    1085\n",
       "features                   0\n",
       "unverified_features        0\n",
       "desc                       0\n",
       "postcode                   0\n",
       "suburb                     0\n",
       "costs                    336\n",
       "beds                       0\n",
       "baths                      0\n",
       "parking                    0\n",
       "dtype: int64"
      ]
     },
     "execution_count": 15,
     "metadata": {},
     "output_type": "execute_result"
    }
   ],
   "source": [
    "#check missing values\n",
    "df.isnull().sum()"
   ]
  },
  {
   "cell_type": "code",
   "execution_count": 16,
   "metadata": {},
   "outputs": [],
   "source": [
    "#As there are too many missing data for internal area, we may drop that feature\n",
    "df.drop(\"area\", axis=1, inplace=True)"
   ]
  },
  {
   "cell_type": "code",
   "execution_count": 17,
   "metadata": {},
   "outputs": [],
   "source": [
    "#drop the instances with no rent \n",
    "df = df.dropna(subset=['costs','bond'])"
   ]
  },
  {
   "cell_type": "code",
   "execution_count": 18,
   "metadata": {},
   "outputs": [
    {
     "data": {
      "text/plain": [
       "name                   0\n",
       "cost_text              0\n",
       "coordinates            0\n",
       "type                   0\n",
       "bond                   0\n",
       "features               0\n",
       "unverified_features    0\n",
       "desc                   0\n",
       "postcode               0\n",
       "suburb                 0\n",
       "costs                  0\n",
       "beds                   0\n",
       "baths                  0\n",
       "parking                0\n",
       "dtype: int64"
      ]
     },
     "execution_count": 18,
     "metadata": {},
     "output_type": "execute_result"
    }
   ],
   "source": [
    "#check missing values\n",
    "df.isnull().sum()"
   ]
  },
  {
   "cell_type": "code",
   "execution_count": 19,
   "metadata": {},
   "outputs": [
    {
     "data": {
      "text/plain": [
       "count     13596.000000\n",
       "mean        535.466019\n",
       "std        1262.489425\n",
       "min           1.000000\n",
       "25%         390.000000\n",
       "50%         450.000000\n",
       "75%         565.000000\n",
       "max      120000.000000\n",
       "Name: costs, dtype: float64"
      ]
     },
     "execution_count": 19,
     "metadata": {},
     "output_type": "execute_result"
    }
   ],
   "source": [
    "#check the distribution of costs $/pw\n",
    "df[\"costs\"].describe()"
   ]
  },
  {
   "cell_type": "code",
   "execution_count": 20,
   "metadata": {},
   "outputs": [],
   "source": [
    "#After checking the properties on \"www.domain.com.au\" with rent pw below $100, we obtained that most of them are parking spots or storage sheds,\n",
    "#and for those properties with rent above $6000, they are actually for business\n",
    "#we drop those properties\n",
    "df = df[(100 <= df.costs) & (df.costs <= 6000)]"
   ]
  },
  {
   "cell_type": "code",
   "execution_count": 21,
   "metadata": {},
   "outputs": [
    {
     "data": {
      "text/plain": [
       "<seaborn.axisgrid.FacetGrid at 0x7f111dc13b50>"
      ]
     },
     "execution_count": 21,
     "metadata": {},
     "output_type": "execute_result"
    },
    {
     "data": {
      "image/png": "[encoded data removed]",
      "text/plain": [
       "<Figure size 360x360 with 1 Axes>"
      ]
     },
     "metadata": {
      "needs_background": "light"
     },
     "output_type": "display_data"
    }
   ],
   "source": [
    "#display costs distribution\n",
    "sns.displot(df, x=\"costs\",kde = \"True\")"
   ]
  },
  {
   "cell_type": "code",
   "execution_count": 22,
   "metadata": {},
   "outputs": [
    {
     "data": {
      "text/plain": [
       "<seaborn.axisgrid.FacetGrid at 0x7f1123723310>"
      ]
     },
     "execution_count": 22,
     "metadata": {},
     "output_type": "execute_result"
    },
    {
     "data": {
      "image/png": "[encoded data removed]",
      "text/plain": [
       "<Figure size 507.625x360 with 1 Axes>"
      ]
     },
     "metadata": {
      "needs_background": "light"
     },
     "output_type": "display_data"
    }
   ],
   "source": [
    "#display costs distribution by type\n",
    "sns.displot(df, x=\"costs\",hue=\"type\", kind=\"kde\")"
   ]
  },
  {
   "cell_type": "code",
   "execution_count": 23,
   "metadata": {},
   "outputs": [
    {
     "data": {
      "text/plain": [
       "count     13506.000000\n",
       "mean       2284.189101\n",
       "std        2805.938686\n",
       "min           4.000000\n",
       "25%        1680.000000\n",
       "50%        1955.000000\n",
       "75%        2433.000000\n",
       "max      282440.000000\n",
       "Name: bond, dtype: float64"
      ]
     },
     "execution_count": 23,
     "metadata": {},
     "output_type": "execute_result"
    }
   ],
   "source": [
    "#check the distribution of bond \n",
    "df[\"bond\"].describe()"
   ]
  },
  {
   "cell_type": "code",
   "execution_count": 24,
   "metadata": {},
   "outputs": [
    {
     "data": {
      "text/plain": [
       "<AxesSubplot:xlabel='bond'>"
      ]
     },
     "execution_count": 24,
     "metadata": {},
     "output_type": "execute_result"
    },
    {
     "data": {
      "image/png": "[encoded data removed]",
      "text/plain": [
       "<Figure size 432x288 with 1 Axes>"
      ]
     },
     "metadata": {
      "needs_background": "light"
     },
     "output_type": "display_data"
    }
   ],
   "source": [
    "#display bond distribution\n",
    "sns.boxplot(x = 'bond', data = df)"
   ]
  },
  {
   "cell_type": "code",
   "execution_count": 25,
   "metadata": {},
   "outputs": [],
   "source": [
    "#remove outliers,since bond is normally up to four weeks' rent in australia\n",
    "df = df[(500 <= df.bond) & (df.bond <= 25000)]"
   ]
  },
  {
   "cell_type": "code",
   "execution_count": 26,
   "metadata": {},
   "outputs": [
    {
     "data": {
      "text/plain": [
       "count    13425.000000\n",
       "mean      2265.988752\n",
       "std       1328.208979\n",
       "min        500.000000\n",
       "25%       1694.000000\n",
       "50%       1955.000000\n",
       "75%       2433.000000\n",
       "max      24000.000000\n",
       "Name: bond, dtype: float64"
      ]
     },
     "execution_count": 26,
     "metadata": {},
     "output_type": "execute_result"
    }
   ],
   "source": [
    "#display bond distribution\n",
    "df[\"bond\"].describe()"
   ]
  },
  {
   "cell_type": "code",
   "execution_count": 27,
   "metadata": {},
   "outputs": [
    {
     "data": {
      "text/plain": [
       "[Text(0.5, 1.0, 'Number of bedrooms per rental property')]"
      ]
     },
     "execution_count": 27,
     "metadata": {},
     "output_type": "execute_result"
    },
    {
     "data": {
      "image/png": "[encoded data removed]",
      "text/plain": [
       "<Figure size 432x288 with 1 Axes>"
      ]
     },
     "metadata": {
      "needs_background": "light"
     },
     "output_type": "display_data"
    }
   ],
   "source": [
    "#check the distribution of number of bedrooms\n",
    "sns.histplot(data=df, x=\"beds\",shrink=5).set(title = \"Number of bedrooms per rental property\")"
   ]
  },
  {
   "cell_type": "code",
   "execution_count": 28,
   "metadata": {},
   "outputs": [
    {
     "data": {
      "text/plain": [
       "[Text(0.5, 1.0, 'Number of bathrooms per rental property')]"
      ]
     },
     "execution_count": 28,
     "metadata": {},
     "output_type": "execute_result"
    },
    {
     "data": {
      "image/png": "[encoded data removed]",
      "text/plain": [
       "<Figure size 432x288 with 1 Axes>"
      ]
     },
     "metadata": {
      "needs_background": "light"
     },
     "output_type": "display_data"
    }
   ],
   "source": [
    "#check the distribution of number of bathrooms\n",
    "sns.histplot(data=df, x=\"baths\",shrink=5).set(title = \"Number of bathrooms per rental property\")"
   ]
  },
  {
   "cell_type": "code",
   "execution_count": 29,
   "metadata": {},
   "outputs": [
    {
     "data": {
      "text/plain": [
       "[Text(0.5, 1.0, 'Number of parking spot per rental property')]"
      ]
     },
     "execution_count": 29,
     "metadata": {},
     "output_type": "execute_result"
    },
    {
     "data": {
      "image/png": "[encoded data removed]",
      "text/plain": [
       "<Figure size 432x288 with 1 Axes>"
      ]
     },
     "metadata": {
      "needs_background": "light"
     },
     "output_type": "display_data"
    }
   ],
   "source": [
    "#check the distribution of number of parking spots\n",
    "sns.histplot(data=df, x=\"parking\",shrink=5).set(title = \"Number of parking spot per rental property\")"
   ]
  },
  {
   "cell_type": "code",
   "execution_count": 30,
   "metadata": {},
   "outputs": [
    {
     "data": {
      "text/html": [
       "<div>\n",
       "<style scoped>\n",
       "    .dataframe tbody tr th:only-of-type {\n",
       "        vertical-align: middle;\n",
       "    }\n",
       "\n",
       "    .dataframe tbody tr th {\n",
       "        vertical-align: top;\n",
       "    }\n",
       "\n",
       "    .dataframe thead th {\n",
       "        text-align: right;\n",
       "    }\n",
       "</style>\n",
       "<table border=\"1\" class=\"dataframe\">\n",
       "  <thead>\n",
       "    <tr style=\"text-align: right;\">\n",
       "      <th></th>\n",
       "      <th>name</th>\n",
       "      <th>cost_text</th>\n",
       "      <th>coordinates</th>\n",
       "      <th>type</th>\n",
       "      <th>bond</th>\n",
       "      <th>features</th>\n",
       "      <th>unverified_features</th>\n",
       "      <th>desc</th>\n",
       "      <th>postcode</th>\n",
       "      <th>suburb</th>\n",
       "      <th>costs</th>\n",
       "      <th>beds</th>\n",
       "      <th>baths</th>\n",
       "      <th>parking</th>\n",
       "    </tr>\n",
       "  </thead>\n",
       "  <tbody>\n",
       "    <tr>\n",
       "      <th>https://www.domain.com.au/25a-veronica-street-inverloch-vic-3996-16006402</th>\n",
       "      <td>25A Veronica Street Inverloch VIC 3996</td>\n",
       "      <td>400 per week</td>\n",
       "      <td>[-38.6428993, 145.7101579]</td>\n",
       "      <td>House</td>\n",
       "      <td>1738.0</td>\n",
       "      <td>[Air conditioning, Close to schools, Furnished]</td>\n",
       "      <td>[Built in wardrobes, Heating]</td>\n",
       "      <td>[** APPLICATIONS ARE REQUIRED PRIOR TO VIEWING...</td>\n",
       "      <td>3996</td>\n",
       "      <td>Inverloch VIC 3996</td>\n",
       "      <td>400.0</td>\n",
       "      <td>3</td>\n",
       "      <td>1</td>\n",
       "      <td>1</td>\n",
       "    </tr>\n",
       "    <tr>\n",
       "      <th>https://www.domain.com.au/16b-sandy-mount-avenue-inverloch-vic-3996-16006035</th>\n",
       "      <td>16B Sandy Mount Avenue Inverloch VIC 3996</td>\n",
       "      <td>$400.00 per week</td>\n",
       "      <td>[-38.6340011, 145.725239]</td>\n",
       "      <td>House</td>\n",
       "      <td>1738.0</td>\n",
       "      <td>[]</td>\n",
       "      <td>[Built in wardrobes, Internal Laundry, Secure ...</td>\n",
       "      <td>[This spacious, two bedroom townhouse is perfe...</td>\n",
       "      <td>3996</td>\n",
       "      <td>Inverloch VIC 3996</td>\n",
       "      <td>400.0</td>\n",
       "      <td>2</td>\n",
       "      <td>1</td>\n",
       "      <td>1</td>\n",
       "    </tr>\n",
       "    <tr>\n",
       "      <th>https://www.domain.com.au/28-beachcomber-drive-inverloch-vic-3996-15920343</th>\n",
       "      <td>28 Beachcomber Drive Inverloch VIC 3996</td>\n",
       "      <td>$550 wk</td>\n",
       "      <td>[-38.6412502, 145.7031282]</td>\n",
       "      <td>House</td>\n",
       "      <td>2390.0</td>\n",
       "      <td>[]</td>\n",
       "      <td>[Gas, Internal Laundry, Secure Parking, Furnis...</td>\n",
       "      <td>[The popular Beachcomber estate offers you mod...</td>\n",
       "      <td>3996</td>\n",
       "      <td>Inverloch VIC 3996</td>\n",
       "      <td>550.0</td>\n",
       "      <td>4</td>\n",
       "      <td>2</td>\n",
       "      <td>0</td>\n",
       "    </tr>\n",
       "    <tr>\n",
       "      <th>https://www.domain.com.au/14-inverloch-parade-inverloch-vic-3996-16040296</th>\n",
       "      <td>14 Inverloch Parade Inverloch VIC 3996</td>\n",
       "      <td>$420 wk</td>\n",
       "      <td>[-38.6287143, 145.7358082]</td>\n",
       "      <td>House</td>\n",
       "      <td>1820.0</td>\n",
       "      <td>[Garden, Split System AC, Floorboards]</td>\n",
       "      <td>[Internal Laundry, Heating]</td>\n",
       "      <td>[This two bedroom, 1 bathroom home will surely...</td>\n",
       "      <td>3996</td>\n",
       "      <td>Inverloch VIC 3996</td>\n",
       "      <td>420.0</td>\n",
       "      <td>2</td>\n",
       "      <td>1</td>\n",
       "      <td>0</td>\n",
       "    </tr>\n",
       "    <tr>\n",
       "      <th>https://www.domain.com.au/inverloch-vic-3996-14434367</th>\n",
       "      <td>Inverloch VIC 3996</td>\n",
       "      <td>$475 wk</td>\n",
       "      <td>[-38.6314613, 145.7293638]</td>\n",
       "      <td>House</td>\n",
       "      <td>2065.0</td>\n",
       "      <td>[Ensuite, Garden, Split System AC, Outdoor Ent...</td>\n",
       "      <td>[Heating]</td>\n",
       "      <td>[Neat 3 bedroom home located in the immaculate...</td>\n",
       "      <td>3996</td>\n",
       "      <td>Inverloch VIC 3996</td>\n",
       "      <td>475.0</td>\n",
       "      <td>3</td>\n",
       "      <td>2</td>\n",
       "      <td>1</td>\n",
       "    </tr>\n",
       "  </tbody>\n",
       "</table>\n",
       "</div>"
      ],
      "text/plain": [
       "                                                                                         name  \\\n",
       "https://www.domain.com.au/25a-veronica-street-i...     25A Veronica Street Inverloch VIC 3996   \n",
       "https://www.domain.com.au/16b-sandy-mount-avenu...  16B Sandy Mount Avenue Inverloch VIC 3996   \n",
       "https://www.domain.com.au/28-beachcomber-drive-...    28 Beachcomber Drive Inverloch VIC 3996   \n",
       "https://www.domain.com.au/14-inverloch-parade-i...     14 Inverloch Parade Inverloch VIC 3996   \n",
       "https://www.domain.com.au/inverloch-vic-3996-14...                         Inverloch VIC 3996   \n",
       "\n",
       "                                                           cost_text  \\\n",
       "https://www.domain.com.au/25a-veronica-street-i...      400 per week   \n",
       "https://www.domain.com.au/16b-sandy-mount-avenu...  $400.00 per week   \n",
       "https://www.domain.com.au/28-beachcomber-drive-...           $550 wk   \n",
       "https://www.domain.com.au/14-inverloch-parade-i...           $420 wk   \n",
       "https://www.domain.com.au/inverloch-vic-3996-14...           $475 wk   \n",
       "\n",
       "                                                                   coordinates  \\\n",
       "https://www.domain.com.au/25a-veronica-street-i...  [-38.6428993, 145.7101579]   \n",
       "https://www.domain.com.au/16b-sandy-mount-avenu...   [-38.6340011, 145.725239]   \n",
       "https://www.domain.com.au/28-beachcomber-drive-...  [-38.6412502, 145.7031282]   \n",
       "https://www.domain.com.au/14-inverloch-parade-i...  [-38.6287143, 145.7358082]   \n",
       "https://www.domain.com.au/inverloch-vic-3996-14...  [-38.6314613, 145.7293638]   \n",
       "\n",
       "                                                     type    bond  \\\n",
       "https://www.domain.com.au/25a-veronica-street-i...  House  1738.0   \n",
       "https://www.domain.com.au/16b-sandy-mount-avenu...  House  1738.0   \n",
       "https://www.domain.com.au/28-beachcomber-drive-...  House  2390.0   \n",
       "https://www.domain.com.au/14-inverloch-parade-i...  House  1820.0   \n",
       "https://www.domain.com.au/inverloch-vic-3996-14...  House  2065.0   \n",
       "\n",
       "                                                                                             features  \\\n",
       "https://www.domain.com.au/25a-veronica-street-i...    [Air conditioning, Close to schools, Furnished]   \n",
       "https://www.domain.com.au/16b-sandy-mount-avenu...                                                 []   \n",
       "https://www.domain.com.au/28-beachcomber-drive-...                                                 []   \n",
       "https://www.domain.com.au/14-inverloch-parade-i...             [Garden, Split System AC, Floorboards]   \n",
       "https://www.domain.com.au/inverloch-vic-3996-14...  [Ensuite, Garden, Split System AC, Outdoor Ent...   \n",
       "\n",
       "                                                                                  unverified_features  \\\n",
       "https://www.domain.com.au/25a-veronica-street-i...                      [Built in wardrobes, Heating]   \n",
       "https://www.domain.com.au/16b-sandy-mount-avenu...  [Built in wardrobes, Internal Laundry, Secure ...   \n",
       "https://www.domain.com.au/28-beachcomber-drive-...  [Gas, Internal Laundry, Secure Parking, Furnis...   \n",
       "https://www.domain.com.au/14-inverloch-parade-i...                        [Internal Laundry, Heating]   \n",
       "https://www.domain.com.au/inverloch-vic-3996-14...                                          [Heating]   \n",
       "\n",
       "                                                                                                 desc  \\\n",
       "https://www.domain.com.au/25a-veronica-street-i...  [** APPLICATIONS ARE REQUIRED PRIOR TO VIEWING...   \n",
       "https://www.domain.com.au/16b-sandy-mount-avenu...  [This spacious, two bedroom townhouse is perfe...   \n",
       "https://www.domain.com.au/28-beachcomber-drive-...  [The popular Beachcomber estate offers you mod...   \n",
       "https://www.domain.com.au/14-inverloch-parade-i...  [This two bedroom, 1 bathroom home will surely...   \n",
       "https://www.domain.com.au/inverloch-vic-3996-14...  [Neat 3 bedroom home located in the immaculate...   \n",
       "\n",
       "                                                    postcode  \\\n",
       "https://www.domain.com.au/25a-veronica-street-i...      3996   \n",
       "https://www.domain.com.au/16b-sandy-mount-avenu...      3996   \n",
       "https://www.domain.com.au/28-beachcomber-drive-...      3996   \n",
       "https://www.domain.com.au/14-inverloch-parade-i...      3996   \n",
       "https://www.domain.com.au/inverloch-vic-3996-14...      3996   \n",
       "\n",
       "                                                                suburb  costs  \\\n",
       "https://www.domain.com.au/25a-veronica-street-i...  Inverloch VIC 3996  400.0   \n",
       "https://www.domain.com.au/16b-sandy-mount-avenu...  Inverloch VIC 3996  400.0   \n",
       "https://www.domain.com.au/28-beachcomber-drive-...  Inverloch VIC 3996  550.0   \n",
       "https://www.domain.com.au/14-inverloch-parade-i...  Inverloch VIC 3996  420.0   \n",
       "https://www.domain.com.au/inverloch-vic-3996-14...  Inverloch VIC 3996  475.0   \n",
       "\n",
       "                                                    beds  baths  parking  \n",
       "https://www.domain.com.au/25a-veronica-street-i...     3      1        1  \n",
       "https://www.domain.com.au/16b-sandy-mount-avenu...     2      1        1  \n",
       "https://www.domain.com.au/28-beachcomber-drive-...     4      2        0  \n",
       "https://www.domain.com.au/14-inverloch-parade-i...     2      1        0  \n",
       "https://www.domain.com.au/inverloch-vic-3996-14...     3      2        1  "
      ]
     },
     "execution_count": 30,
     "metadata": {},
     "output_type": "execute_result"
    }
   ],
   "source": [
    "df.tail()"
   ]
  },
  {
   "cell_type": "code",
   "execution_count": 31,
   "metadata": {},
   "outputs": [
    {
     "data": {
      "text/html": [
       "<div>\n",
       "<style scoped>\n",
       "    .dataframe tbody tr th:only-of-type {\n",
       "        vertical-align: middle;\n",
       "    }\n",
       "\n",
       "    .dataframe tbody tr th {\n",
       "        vertical-align: top;\n",
       "    }\n",
       "\n",
       "    .dataframe thead th {\n",
       "        text-align: right;\n",
       "    }\n",
       "</style>\n",
       "<table border=\"1\" class=\"dataframe\">\n",
       "  <thead>\n",
       "    <tr style=\"text-align: right;\">\n",
       "      <th></th>\n",
       "      <th>costs</th>\n",
       "    </tr>\n",
       "    <tr>\n",
       "      <th>suburb</th>\n",
       "      <th></th>\n",
       "    </tr>\n",
       "  </thead>\n",
       "  <tbody>\n",
       "    <tr>\n",
       "      <th>3004 VIC 3004</th>\n",
       "      <td>515.0</td>\n",
       "    </tr>\n",
       "    <tr>\n",
       "      <th>Abbotsford VIC 3067</th>\n",
       "      <td>580.0</td>\n",
       "    </tr>\n",
       "    <tr>\n",
       "      <th>Aberfeldie VIC 3040</th>\n",
       "      <td>445.0</td>\n",
       "    </tr>\n",
       "    <tr>\n",
       "      <th>Aintree VIC 3336</th>\n",
       "      <td>450.0</td>\n",
       "    </tr>\n",
       "    <tr>\n",
       "      <th>Albans VIC 3021</th>\n",
       "      <td>350.0</td>\n",
       "    </tr>\n",
       "    <tr>\n",
       "      <th>...</th>\n",
       "      <td>...</td>\n",
       "    </tr>\n",
       "    <tr>\n",
       "      <th>Yarram VIC 3971</th>\n",
       "      <td>550.0</td>\n",
       "    </tr>\n",
       "    <tr>\n",
       "      <th>Yarraville VIC 3013</th>\n",
       "      <td>550.0</td>\n",
       "    </tr>\n",
       "    <tr>\n",
       "      <th>Yarrawonga VIC 3730</th>\n",
       "      <td>530.0</td>\n",
       "    </tr>\n",
       "    <tr>\n",
       "      <th>Yean VIC 3755</th>\n",
       "      <td>650.0</td>\n",
       "    </tr>\n",
       "    <tr>\n",
       "      <th>Yung VIC 3875</th>\n",
       "      <td>470.0</td>\n",
       "    </tr>\n",
       "  </tbody>\n",
       "</table>\n",
       "<p>670 rows × 1 columns</p>\n",
       "</div>"
      ],
      "text/plain": [
       "                     costs\n",
       "suburb                    \n",
       "3004 VIC 3004        515.0\n",
       "Abbotsford VIC 3067  580.0\n",
       "Aberfeldie VIC 3040  445.0\n",
       "Aintree VIC 3336     450.0\n",
       "Albans VIC 3021      350.0\n",
       "...                    ...\n",
       "Yarram VIC 3971      550.0\n",
       "Yarraville VIC 3013  550.0\n",
       "Yarrawonga VIC 3730  530.0\n",
       "Yean VIC 3755        650.0\n",
       "Yung VIC 3875        470.0\n",
       "\n",
       "[670 rows x 1 columns]"
      ]
     },
     "execution_count": 31,
     "metadata": {},
     "output_type": "execute_result"
    }
   ],
   "source": [
    "#extract the costs pw by suburb\n",
    "#as median is not significantly influenced by outliers\n",
    "suburb_cost = df[[\"costs\",\"suburb\"]].groupby(\"suburb\").median()\n",
    "suburb_cost"
   ]
  },
  {
   "cell_type": "code",
   "execution_count": 32,
   "metadata": {},
   "outputs": [
    {
     "data": {
      "text/html": [
       "<div>\n",
       "<style scoped>\n",
       "    .dataframe tbody tr th:only-of-type {\n",
       "        vertical-align: middle;\n",
       "    }\n",
       "\n",
       "    .dataframe tbody tr th {\n",
       "        vertical-align: top;\n",
       "    }\n",
       "\n",
       "    .dataframe thead th {\n",
       "        text-align: right;\n",
       "    }\n",
       "</style>\n",
       "<table border=\"1\" class=\"dataframe\">\n",
       "  <thead>\n",
       "    <tr style=\"text-align: right;\">\n",
       "      <th></th>\n",
       "      <th>costs</th>\n",
       "    </tr>\n",
       "    <tr>\n",
       "      <th>postcode</th>\n",
       "      <th></th>\n",
       "    </tr>\n",
       "  </thead>\n",
       "  <tbody>\n",
       "    <tr>\n",
       "      <th>3000</th>\n",
       "      <td>550.0</td>\n",
       "    </tr>\n",
       "    <tr>\n",
       "      <th>3002</th>\n",
       "      <td>625.0</td>\n",
       "    </tr>\n",
       "    <tr>\n",
       "      <th>3003</th>\n",
       "      <td>520.0</td>\n",
       "    </tr>\n",
       "    <tr>\n",
       "      <th>3004</th>\n",
       "      <td>600.0</td>\n",
       "    </tr>\n",
       "    <tr>\n",
       "      <th>3006</th>\n",
       "      <td>550.0</td>\n",
       "    </tr>\n",
       "    <tr>\n",
       "      <th>...</th>\n",
       "      <td>...</td>\n",
       "    </tr>\n",
       "    <tr>\n",
       "      <th>3984</th>\n",
       "      <td>425.0</td>\n",
       "    </tr>\n",
       "    <tr>\n",
       "      <th>3987</th>\n",
       "      <td>550.0</td>\n",
       "    </tr>\n",
       "    <tr>\n",
       "      <th>3992</th>\n",
       "      <td>425.0</td>\n",
       "    </tr>\n",
       "    <tr>\n",
       "      <th>3995</th>\n",
       "      <td>380.0</td>\n",
       "    </tr>\n",
       "    <tr>\n",
       "      <th>3996</th>\n",
       "      <td>435.0</td>\n",
       "    </tr>\n",
       "  </tbody>\n",
       "</table>\n",
       "<p>401 rows × 1 columns</p>\n",
       "</div>"
      ],
      "text/plain": [
       "          costs\n",
       "postcode       \n",
       "3000      550.0\n",
       "3002      625.0\n",
       "3003      520.0\n",
       "3004      600.0\n",
       "3006      550.0\n",
       "...         ...\n",
       "3984      425.0\n",
       "3987      550.0\n",
       "3992      425.0\n",
       "3995      380.0\n",
       "3996      435.0\n",
       "\n",
       "[401 rows x 1 columns]"
      ]
     },
     "execution_count": 32,
     "metadata": {},
     "output_type": "execute_result"
    }
   ],
   "source": [
    "#extract the number of properties by postcode\n",
    "postcode_cost = df[[\"costs\",\"postcode\"]].groupby(\"postcode\").median()\n",
    "postcode_cost"
   ]
  },
  {
   "cell_type": "code",
   "execution_count": 33,
   "metadata": {},
   "outputs": [],
   "source": [
    "pop_postcode = pd.read_csv('../data/curated_data/pop_postcode.csv')"
   ]
  },
  {
   "cell_type": "code",
   "execution_count": 34,
   "metadata": {},
   "outputs": [],
   "source": [
    "pop_postcode = pop_postcode.drop_duplicates()"
   ]
  },
  {
   "cell_type": "code",
   "execution_count": 35,
   "metadata": {},
   "outputs": [
    {
     "data": {
      "text/html": [
       "<div>\n",
       "<style scoped>\n",
       "    .dataframe tbody tr th:only-of-type {\n",
       "        vertical-align: middle;\n",
       "    }\n",
       "\n",
       "    .dataframe tbody tr th {\n",
       "        vertical-align: top;\n",
       "    }\n",
       "\n",
       "    .dataframe thead th {\n",
       "        text-align: right;\n",
       "    }\n",
       "</style>\n",
       "<table border=\"1\" class=\"dataframe\">\n",
       "  <thead>\n",
       "    <tr style=\"text-align: right;\">\n",
       "      <th></th>\n",
       "      <th>postcode</th>\n",
       "      <th>SA2</th>\n",
       "      <th>2021</th>\n",
       "      <th>Area Name</th>\n",
       "      <th>2026</th>\n",
       "    </tr>\n",
       "  </thead>\n",
       "  <tbody>\n",
       "    <tr>\n",
       "      <th>0</th>\n",
       "      <td>3000</td>\n",
       "      <td>206041122.0</td>\n",
       "      <td>43823.0</td>\n",
       "      <td>Melbourne</td>\n",
       "      <td>73,594</td>\n",
       "    </tr>\n",
       "    <tr>\n",
       "      <th>1</th>\n",
       "      <td>3001</td>\n",
       "      <td>206041122.0</td>\n",
       "      <td>43823.0</td>\n",
       "      <td>Melbourne</td>\n",
       "      <td>73,594</td>\n",
       "    </tr>\n",
       "    <tr>\n",
       "      <th>2</th>\n",
       "      <td>3002</td>\n",
       "      <td>206041119.0</td>\n",
       "      <td>4962.0</td>\n",
       "      <td>East Melbourne</td>\n",
       "      <td>6,519</td>\n",
       "    </tr>\n",
       "    <tr>\n",
       "      <th>3</th>\n",
       "      <td>3003</td>\n",
       "      <td>206041127.0</td>\n",
       "      <td>0.0</td>\n",
       "      <td>West Melbourne</td>\n",
       "      <td>0</td>\n",
       "    </tr>\n",
       "    <tr>\n",
       "      <th>4</th>\n",
       "      <td>3004</td>\n",
       "      <td>206041126.0</td>\n",
       "      <td>23173.0</td>\n",
       "      <td>Southbank</td>\n",
       "      <td>41,516</td>\n",
       "    </tr>\n",
       "    <tr>\n",
       "      <th>5</th>\n",
       "      <td>3004</td>\n",
       "      <td>206041125.0</td>\n",
       "      <td>6542.0</td>\n",
       "      <td>South Yarra - West</td>\n",
       "      <td>7,541</td>\n",
       "    </tr>\n",
       "    <tr>\n",
       "      <th>7</th>\n",
       "      <td>3005</td>\n",
       "      <td>206041118.0</td>\n",
       "      <td>15942.0</td>\n",
       "      <td>Docklands</td>\n",
       "      <td>24,820</td>\n",
       "    </tr>\n",
       "    <tr>\n",
       "      <th>8</th>\n",
       "      <td>3006</td>\n",
       "      <td>206041126.0</td>\n",
       "      <td>23173.0</td>\n",
       "      <td>Southbank</td>\n",
       "      <td>41,516</td>\n",
       "    </tr>\n",
       "    <tr>\n",
       "      <th>9</th>\n",
       "      <td>3006</td>\n",
       "      <td>206051132.0</td>\n",
       "      <td>12330.0</td>\n",
       "      <td>South Melbourne</td>\n",
       "      <td>23,032</td>\n",
       "    </tr>\n",
       "    <tr>\n",
       "      <th>10</th>\n",
       "      <td>3008</td>\n",
       "      <td>206041118.0</td>\n",
       "      <td>15942.0</td>\n",
       "      <td>Docklands</td>\n",
       "      <td>24,820</td>\n",
       "    </tr>\n",
       "    <tr>\n",
       "      <th>11</th>\n",
       "      <td>3010</td>\n",
       "      <td>206041124.0</td>\n",
       "      <td>7446.0</td>\n",
       "      <td>Parkville</td>\n",
       "      <td>9,640</td>\n",
       "    </tr>\n",
       "    <tr>\n",
       "      <th>12</th>\n",
       "      <td>3011</td>\n",
       "      <td>213031348.0</td>\n",
       "      <td>17420.0</td>\n",
       "      <td>Footscray</td>\n",
       "      <td>32,211</td>\n",
       "    </tr>\n",
       "    <tr>\n",
       "      <th>13</th>\n",
       "      <td>3011</td>\n",
       "      <td>213031350.0</td>\n",
       "      <td>9364.0</td>\n",
       "      <td>Seddon - Kingsville</td>\n",
       "      <td>10,481</td>\n",
       "    </tr>\n",
       "    <tr>\n",
       "      <th>15</th>\n",
       "      <td>3012</td>\n",
       "      <td>213011338.0</td>\n",
       "      <td>18779.0</td>\n",
       "      <td>Sunshine West</td>\n",
       "      <td>21,592</td>\n",
       "    </tr>\n",
       "    <tr>\n",
       "      <th>16</th>\n",
       "      <td>3012</td>\n",
       "      <td>213031350.0</td>\n",
       "      <td>9364.0</td>\n",
       "      <td>Seddon - Kingsville</td>\n",
       "      <td>10,481</td>\n",
       "    </tr>\n",
       "    <tr>\n",
       "      <th>18</th>\n",
       "      <td>3012</td>\n",
       "      <td>213031347.0</td>\n",
       "      <td>19361.0</td>\n",
       "      <td>Braybrook</td>\n",
       "      <td>23,543</td>\n",
       "    </tr>\n",
       "    <tr>\n",
       "      <th>19</th>\n",
       "      <td>3012</td>\n",
       "      <td>213031351.0</td>\n",
       "      <td>11885.0</td>\n",
       "      <td>West Footscray - Tottenham</td>\n",
       "      <td>14,050</td>\n",
       "    </tr>\n",
       "    <tr>\n",
       "      <th>21</th>\n",
       "      <td>3013</td>\n",
       "      <td>213031352.0</td>\n",
       "      <td>15653.0</td>\n",
       "      <td>Yarraville</td>\n",
       "      <td>18,638</td>\n",
       "    </tr>\n",
       "    <tr>\n",
       "      <th>23</th>\n",
       "      <td>3015</td>\n",
       "      <td>213021344.0</td>\n",
       "      <td>18985.0</td>\n",
       "      <td>Newport</td>\n",
       "      <td>21,010</td>\n",
       "    </tr>\n",
       "    <tr>\n",
       "      <th>26</th>\n",
       "      <td>3016</td>\n",
       "      <td>213021346.0</td>\n",
       "      <td>16074.0</td>\n",
       "      <td>Williamstown</td>\n",
       "      <td>18,513</td>\n",
       "    </tr>\n",
       "    <tr>\n",
       "      <th>28</th>\n",
       "      <td>3018</td>\n",
       "      <td>213021341.0</td>\n",
       "      <td>13652.0</td>\n",
       "      <td>Altona</td>\n",
       "      <td>15,099</td>\n",
       "    </tr>\n",
       "    <tr>\n",
       "      <th>30</th>\n",
       "      <td>3019</td>\n",
       "      <td>213031347.0</td>\n",
       "      <td>19361.0</td>\n",
       "      <td>Braybrook</td>\n",
       "      <td>23,543</td>\n",
       "    </tr>\n",
       "    <tr>\n",
       "      <th>33</th>\n",
       "      <td>3020</td>\n",
       "      <td>213011328.0</td>\n",
       "      <td>7595.0</td>\n",
       "      <td>Ardeer - Albion</td>\n",
       "      <td>9,454</td>\n",
       "    </tr>\n",
       "    <tr>\n",
       "      <th>34</th>\n",
       "      <td>3020</td>\n",
       "      <td>213011338.0</td>\n",
       "      <td>18779.0</td>\n",
       "      <td>Sunshine West</td>\n",
       "      <td>21,592</td>\n",
       "    </tr>\n",
       "    <tr>\n",
       "      <th>35</th>\n",
       "      <td>3020</td>\n",
       "      <td>213011336.0</td>\n",
       "      <td>9576.0</td>\n",
       "      <td>Sunshine</td>\n",
       "      <td>13,686</td>\n",
       "    </tr>\n",
       "    <tr>\n",
       "      <th>36</th>\n",
       "      <td>3020</td>\n",
       "      <td>213011337.0</td>\n",
       "      <td>12163.0</td>\n",
       "      <td>Sunshine North</td>\n",
       "      <td>14,412</td>\n",
       "    </tr>\n",
       "    <tr>\n",
       "      <th>38</th>\n",
       "      <td>3021</td>\n",
       "      <td>213011333.0</td>\n",
       "      <td>14081.0</td>\n",
       "      <td>Kings Park (Vic.)</td>\n",
       "      <td>15,155</td>\n",
       "    </tr>\n",
       "    <tr>\n",
       "      <th>39</th>\n",
       "      <td>3021</td>\n",
       "      <td>213011332.0</td>\n",
       "      <td>13193.0</td>\n",
       "      <td>Keilor Downs</td>\n",
       "      <td>14,035</td>\n",
       "    </tr>\n",
       "    <tr>\n",
       "      <th>41</th>\n",
       "      <td>3021</td>\n",
       "      <td>213011334.0</td>\n",
       "      <td>20850.0</td>\n",
       "      <td>St Albans - North</td>\n",
       "      <td>23,657</td>\n",
       "    </tr>\n",
       "    <tr>\n",
       "      <th>42</th>\n",
       "      <td>3022</td>\n",
       "      <td>213011328.0</td>\n",
       "      <td>7595.0</td>\n",
       "      <td>Ardeer - Albion</td>\n",
       "      <td>9,454</td>\n",
       "    </tr>\n",
       "    <tr>\n",
       "      <th>44</th>\n",
       "      <td>3023</td>\n",
       "      <td>213041461.0</td>\n",
       "      <td>5855.0</td>\n",
       "      <td>Burnside</td>\n",
       "      <td>6,109</td>\n",
       "    </tr>\n",
       "    <tr>\n",
       "      <th>45</th>\n",
       "      <td>3023</td>\n",
       "      <td>213041462.0</td>\n",
       "      <td>6442.0</td>\n",
       "      <td>Burnside Heights</td>\n",
       "      <td>7,241</td>\n",
       "    </tr>\n",
       "    <tr>\n",
       "      <th>46</th>\n",
       "      <td>3023</td>\n",
       "      <td>213011329.0</td>\n",
       "      <td>10144.0</td>\n",
       "      <td>Cairnlea</td>\n",
       "      <td>11,592</td>\n",
       "    </tr>\n",
       "    <tr>\n",
       "      <th>47</th>\n",
       "      <td>3023</td>\n",
       "      <td>213041463.0</td>\n",
       "      <td>20643.0</td>\n",
       "      <td>Caroline Springs</td>\n",
       "      <td>22,442</td>\n",
       "    </tr>\n",
       "    <tr>\n",
       "      <th>48</th>\n",
       "      <td>3023</td>\n",
       "      <td>213011330.0</td>\n",
       "      <td>26981.0</td>\n",
       "      <td>Deer Park - Derrimut</td>\n",
       "      <td>29,707</td>\n",
       "    </tr>\n",
       "    <tr>\n",
       "      <th>50</th>\n",
       "      <td>3023</td>\n",
       "      <td>213041359.0</td>\n",
       "      <td>17836.0</td>\n",
       "      <td>Rockbank - Mount Cottrell</td>\n",
       "      <td>28,235</td>\n",
       "    </tr>\n",
       "    <tr>\n",
       "      <th>51</th>\n",
       "      <td>3024</td>\n",
       "      <td>213041359.0</td>\n",
       "      <td>17836.0</td>\n",
       "      <td>Rockbank - Mount Cottrell</td>\n",
       "      <td>28,235</td>\n",
       "    </tr>\n",
       "    <tr>\n",
       "      <th>52</th>\n",
       "      <td>3024</td>\n",
       "      <td>213051468.0</td>\n",
       "      <td>22661.0</td>\n",
       "      <td>Werribee - West</td>\n",
       "      <td>29,304</td>\n",
       "    </tr>\n",
       "    <tr>\n",
       "      <th>53</th>\n",
       "      <td>3024</td>\n",
       "      <td>213051369.0</td>\n",
       "      <td>33639.0</td>\n",
       "      <td>Wyndham Vale</td>\n",
       "      <td>44,369</td>\n",
       "    </tr>\n",
       "    <tr>\n",
       "      <th>54</th>\n",
       "      <td>3024</td>\n",
       "      <td>213051365.0</td>\n",
       "      <td>57511.0</td>\n",
       "      <td>Tarneit</td>\n",
       "      <td>72,885</td>\n",
       "    </tr>\n",
       "    <tr>\n",
       "      <th>56</th>\n",
       "      <td>3025</td>\n",
       "      <td>213021343.0</td>\n",
       "      <td>15086.0</td>\n",
       "      <td>Altona North</td>\n",
       "      <td>19,616</td>\n",
       "    </tr>\n",
       "    <tr>\n",
       "      <th>59</th>\n",
       "      <td>3026</td>\n",
       "      <td>213011330.0</td>\n",
       "      <td>26981.0</td>\n",
       "      <td>Deer Park - Derrimut</td>\n",
       "      <td>29,707</td>\n",
       "    </tr>\n",
       "    <tr>\n",
       "      <th>60</th>\n",
       "      <td>3026</td>\n",
       "      <td>213051363.0</td>\n",
       "      <td>11643.0</td>\n",
       "      <td>Laverton</td>\n",
       "      <td>13,840</td>\n",
       "    </tr>\n",
       "    <tr>\n",
       "      <th>61</th>\n",
       "      <td>3027</td>\n",
       "      <td>213051363.0</td>\n",
       "      <td>11643.0</td>\n",
       "      <td>Laverton</td>\n",
       "      <td>13,840</td>\n",
       "    </tr>\n",
       "    <tr>\n",
       "      <th>63</th>\n",
       "      <td>3027</td>\n",
       "      <td>213051464.0</td>\n",
       "      <td>19585.0</td>\n",
       "      <td>Point Cook - East</td>\n",
       "      <td>21,479</td>\n",
       "    </tr>\n",
       "    <tr>\n",
       "      <th>64</th>\n",
       "      <td>3028</td>\n",
       "      <td>213021342.0</td>\n",
       "      <td>18665.0</td>\n",
       "      <td>Altona Meadows</td>\n",
       "      <td>21,088</td>\n",
       "    </tr>\n",
       "    <tr>\n",
       "      <th>65</th>\n",
       "      <td>3028</td>\n",
       "      <td>213051363.0</td>\n",
       "      <td>11643.0</td>\n",
       "      <td>Laverton</td>\n",
       "      <td>13,840</td>\n",
       "    </tr>\n",
       "    <tr>\n",
       "      <th>66</th>\n",
       "      <td>3028</td>\n",
       "      <td>213021345.0</td>\n",
       "      <td>5002.0</td>\n",
       "      <td>Seabrook</td>\n",
       "      <td>5,763</td>\n",
       "    </tr>\n",
       "    <tr>\n",
       "      <th>67</th>\n",
       "      <td>3029</td>\n",
       "      <td>213051361.0</td>\n",
       "      <td>18663.0</td>\n",
       "      <td>Hoppers Crossing - North</td>\n",
       "      <td>20,843</td>\n",
       "    </tr>\n",
       "    <tr>\n",
       "      <th>68</th>\n",
       "      <td>3029</td>\n",
       "      <td>213051365.0</td>\n",
       "      <td>57511.0</td>\n",
       "      <td>Tarneit</td>\n",
       "      <td>72,885</td>\n",
       "    </tr>\n",
       "  </tbody>\n",
       "</table>\n",
       "</div>"
      ],
      "text/plain": [
       "    postcode          SA2     2021                   Area Name    2026\n",
       "0       3000  206041122.0  43823.0                   Melbourne  73,594\n",
       "1       3001  206041122.0  43823.0                   Melbourne  73,594\n",
       "2       3002  206041119.0   4962.0              East Melbourne   6,519\n",
       "3       3003  206041127.0      0.0              West Melbourne       0\n",
       "4       3004  206041126.0  23173.0                   Southbank  41,516\n",
       "5       3004  206041125.0   6542.0          South Yarra - West   7,541\n",
       "7       3005  206041118.0  15942.0                   Docklands  24,820\n",
       "8       3006  206041126.0  23173.0                   Southbank  41,516\n",
       "9       3006  206051132.0  12330.0             South Melbourne  23,032\n",
       "10      3008  206041118.0  15942.0                   Docklands  24,820\n",
       "11      3010  206041124.0   7446.0                   Parkville   9,640\n",
       "12      3011  213031348.0  17420.0                   Footscray  32,211\n",
       "13      3011  213031350.0   9364.0         Seddon - Kingsville  10,481\n",
       "15      3012  213011338.0  18779.0               Sunshine West  21,592\n",
       "16      3012  213031350.0   9364.0         Seddon - Kingsville  10,481\n",
       "18      3012  213031347.0  19361.0                   Braybrook  23,543\n",
       "19      3012  213031351.0  11885.0  West Footscray - Tottenham  14,050\n",
       "21      3013  213031352.0  15653.0                  Yarraville  18,638\n",
       "23      3015  213021344.0  18985.0                     Newport  21,010\n",
       "26      3016  213021346.0  16074.0                Williamstown  18,513\n",
       "28      3018  213021341.0  13652.0                      Altona  15,099\n",
       "30      3019  213031347.0  19361.0                   Braybrook  23,543\n",
       "33      3020  213011328.0   7595.0             Ardeer - Albion   9,454\n",
       "34      3020  213011338.0  18779.0               Sunshine West  21,592\n",
       "35      3020  213011336.0   9576.0                    Sunshine  13,686\n",
       "36      3020  213011337.0  12163.0              Sunshine North  14,412\n",
       "38      3021  213011333.0  14081.0           Kings Park (Vic.)  15,155\n",
       "39      3021  213011332.0  13193.0                Keilor Downs  14,035\n",
       "41      3021  213011334.0  20850.0           St Albans - North  23,657\n",
       "42      3022  213011328.0   7595.0             Ardeer - Albion   9,454\n",
       "44      3023  213041461.0   5855.0                    Burnside   6,109\n",
       "45      3023  213041462.0   6442.0            Burnside Heights   7,241\n",
       "46      3023  213011329.0  10144.0                    Cairnlea  11,592\n",
       "47      3023  213041463.0  20643.0            Caroline Springs  22,442\n",
       "48      3023  213011330.0  26981.0        Deer Park - Derrimut  29,707\n",
       "50      3023  213041359.0  17836.0   Rockbank - Mount Cottrell  28,235\n",
       "51      3024  213041359.0  17836.0   Rockbank - Mount Cottrell  28,235\n",
       "52      3024  213051468.0  22661.0             Werribee - West  29,304\n",
       "53      3024  213051369.0  33639.0                Wyndham Vale  44,369\n",
       "54      3024  213051365.0  57511.0                     Tarneit  72,885\n",
       "56      3025  213021343.0  15086.0                Altona North  19,616\n",
       "59      3026  213011330.0  26981.0        Deer Park - Derrimut  29,707\n",
       "60      3026  213051363.0  11643.0                    Laverton  13,840\n",
       "61      3027  213051363.0  11643.0                    Laverton  13,840\n",
       "63      3027  213051464.0  19585.0           Point Cook - East  21,479\n",
       "64      3028  213021342.0  18665.0              Altona Meadows  21,088\n",
       "65      3028  213051363.0  11643.0                    Laverton  13,840\n",
       "66      3028  213021345.0   5002.0                    Seabrook   5,763\n",
       "67      3029  213051361.0  18663.0    Hoppers Crossing - North  20,843\n",
       "68      3029  213051365.0  57511.0                     Tarneit  72,885"
      ]
     },
     "execution_count": 35,
     "metadata": {},
     "output_type": "execute_result"
    }
   ],
   "source": [
    "pop_postcode.head(50)"
   ]
  },
  {
   "cell_type": "code",
   "execution_count": 36,
   "metadata": {},
   "outputs": [],
   "source": [
    "df_new = pd.merge(df,pop_postcode,how='left')"
   ]
  },
  {
   "cell_type": "code",
   "execution_count": 37,
   "metadata": {},
   "outputs": [
    {
     "data": {
      "text/plain": [
       "28370"
      ]
     },
     "execution_count": 37,
     "metadata": {},
     "output_type": "execute_result"
    }
   ],
   "source": [
    "len(df_new)"
   ]
  },
  {
   "cell_type": "code",
   "execution_count": 38,
   "metadata": {},
   "outputs": [],
   "source": [
    "df.to_csv('../data/curated_data/properties.csv',index = False)"
   ]
  }
 ],
 "metadata": {
  "kernelspec": {
   "display_name": "Python 3.7.13 ('ads': conda)",
   "language": "python",
   "name": "python3"
  },
  "language_info": {
   "codemirror_mode": {
    "name": "ipython",
    "version": 3
   },
   "file_extension": ".py",
   "mimetype": "text/x-python",
   "name": "python",
   "nbconvert_exporter": "python",
   "pygments_lexer": "ipython3",
   "version": "3.7.13"
  },
  "orig_nbformat": 4,
  "vscode": {
   "interpreter": {
    "hash": "a28aa2810793d8efd95800751be1a77a31e67b332a24775101e42ef2e09877bc"
   }
  }
 },
 "nbformat": 4,
 "nbformat_minor": 2
}
