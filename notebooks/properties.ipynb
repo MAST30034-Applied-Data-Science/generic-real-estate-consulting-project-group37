{
 "cells": [
  {
   "cell_type": "code",
   "execution_count": 1,
   "metadata": {},
   "outputs": [],
   "source": [
    "import re\n",
    "import pandas as pd"
   ]
  },
  {
   "cell_type": "code",
   "execution_count": 2,
   "metadata": {},
   "outputs": [],
   "source": [
    "#load rental properties data\n",
    "df = pd.read_json('../data/raw_data/properties.json').T"
   ]
  },
  {
   "cell_type": "code",
   "execution_count": 3,
   "metadata": {},
   "outputs": [],
   "source": [
    "#drop any duplicate instances\n",
    "df = df[~df.index.duplicated(keep = 'first')]"
   ]
  },
  {
   "cell_type": "code",
   "execution_count": 4,
   "metadata": {},
   "outputs": [
    {
     "data": {
      "text/plain": [
       "(15236, 10)"
      ]
     },
     "execution_count": 4,
     "metadata": {},
     "output_type": "execute_result"
    }
   ],
   "source": [
    "df.shape"
   ]
  },
  {
   "cell_type": "code",
   "execution_count": 5,
   "metadata": {},
   "outputs": [],
   "source": [
    "#extract costs,number of beds,number of bathrooms and number of parking\n",
    "\n",
    "df[\"costs\"] = df[\"cost_text\"].str.extract(r'(\\d+\\,*\\d*)')\n",
    "rooms = [\"beds\",\"baths\",\"parking\"]\n",
    "for i in range(len(rooms)):\n",
    "    df[rooms[i]] = df[\"rooms\"].str[i].str[0].str.extract(r'(\\d+)')\n",
    "    df[rooms[i]] = df[rooms[i]].fillna(0)\n"
   ]
  },
  {
   "cell_type": "code",
   "execution_count": 8,
   "metadata": {},
   "outputs": [
    {
     "data": {
      "text/html": [
       "<div>\n",
       "<style scoped>\n",
       "    .dataframe tbody tr th:only-of-type {\n",
       "        vertical-align: middle;\n",
       "    }\n",
       "\n",
       "    .dataframe tbody tr th {\n",
       "        vertical-align: top;\n",
       "    }\n",
       "\n",
       "    .dataframe thead th {\n",
       "        text-align: right;\n",
       "    }\n",
       "</style>\n",
       "<table border=\"1\" class=\"dataframe\">\n",
       "  <thead>\n",
       "    <tr style=\"text-align: right;\">\n",
       "      <th></th>\n",
       "      <th>name</th>\n",
       "      <th>cost_text</th>\n",
       "      <th>coordinates</th>\n",
       "      <th>rooms</th>\n",
       "      <th>area</th>\n",
       "      <th>type</th>\n",
       "      <th>bond</th>\n",
       "      <th>features</th>\n",
       "      <th>unverified_features</th>\n",
       "      <th>desc</th>\n",
       "      <th>costs</th>\n",
       "      <th>beds</th>\n",
       "      <th>baths</th>\n",
       "      <th>parking</th>\n",
       "    </tr>\n",
       "  </thead>\n",
       "  <tbody>\n",
       "    <tr>\n",
       "      <th>https://www.domain.com.au/16b-sandy-mount-avenue-inverloch-vic-3996-16006035</th>\n",
       "      <td>16B Sandy Mount Avenue Inverloch VIC 3996</td>\n",
       "      <td>$400.00 per week</td>\n",
       "      <td>[-38.6340011, 145.725239]</td>\n",
       "      <td>[[2 Beds], [1 Bath], [1 Parking]]</td>\n",
       "      <td>None</td>\n",
       "      <td>House</td>\n",
       "      <td>1738</td>\n",
       "      <td>[]</td>\n",
       "      <td>[Built in wardrobes, Internal Laundry, Secure ...</td>\n",
       "      <td>[This spacious, two bedroom townhouse is perfe...</td>\n",
       "      <td>400</td>\n",
       "      <td>2</td>\n",
       "      <td>1</td>\n",
       "      <td>1</td>\n",
       "    </tr>\n",
       "    <tr>\n",
       "      <th>https://www.domain.com.au/28-beachcomber-drive-inverloch-vic-3996-15920343</th>\n",
       "      <td>28 Beachcomber Drive Inverloch VIC 3996</td>\n",
       "      <td>$550 wk</td>\n",
       "      <td>[-38.6412502, 145.7031282]</td>\n",
       "      <td>[[4 Beds], [2 Baths], []]</td>\n",
       "      <td>None</td>\n",
       "      <td>House</td>\n",
       "      <td>2390</td>\n",
       "      <td>[]</td>\n",
       "      <td>[Gas, Internal Laundry, Secure Parking, Furnis...</td>\n",
       "      <td>[The popular Beachcomber estate offers you mod...</td>\n",
       "      <td>550</td>\n",
       "      <td>4</td>\n",
       "      <td>2</td>\n",
       "      <td>0</td>\n",
       "    </tr>\n",
       "    <tr>\n",
       "      <th>https://www.domain.com.au/14-inverloch-parade-inverloch-vic-3996-16040296</th>\n",
       "      <td>14 Inverloch Parade Inverloch VIC 3996</td>\n",
       "      <td>$420 wk</td>\n",
       "      <td>[-38.6287143, 145.7358082]</td>\n",
       "      <td>[[2 Beds], [1 Bath], []]</td>\n",
       "      <td>None</td>\n",
       "      <td>House</td>\n",
       "      <td>1820</td>\n",
       "      <td>[Garden, Split System AC, Floorboards]</td>\n",
       "      <td>[Internal Laundry, Heating]</td>\n",
       "      <td>[This two bedroom, 1 bathroom home will surely...</td>\n",
       "      <td>420</td>\n",
       "      <td>2</td>\n",
       "      <td>1</td>\n",
       "      <td>0</td>\n",
       "    </tr>\n",
       "    <tr>\n",
       "      <th>https://www.domain.com.au/inverloch-vic-3996-14434367</th>\n",
       "      <td>Inverloch VIC 3996</td>\n",
       "      <td>$475 wk</td>\n",
       "      <td>[-38.6314613, 145.7293638]</td>\n",
       "      <td>[[3 Beds], [2 Baths], [1 Parking]]</td>\n",
       "      <td>None</td>\n",
       "      <td>House</td>\n",
       "      <td>2065</td>\n",
       "      <td>[Ensuite, Garden, Split System AC, Outdoor Ent...</td>\n",
       "      <td>[Heating]</td>\n",
       "      <td>[Neat 3 bedroom home located in the immaculate...</td>\n",
       "      <td>475</td>\n",
       "      <td>3</td>\n",
       "      <td>2</td>\n",
       "      <td>1</td>\n",
       "    </tr>\n",
       "    <tr>\n",
       "      <th>https://www.domain.com.au/64-dixon-street-inverloch-vic-3996-15951739</th>\n",
       "      <td>64 Dixon Street Inverloch VIC 3996</td>\n",
       "      <td>Contact Agent</td>\n",
       "      <td>[-38.6313719, 145.717275]</td>\n",
       "      <td>[[1 Bed], [1 Bath], []]</td>\n",
       "      <td>200</td>\n",
       "      <td>House</td>\n",
       "      <td>200</td>\n",
       "      <td>[Solar panels]</td>\n",
       "      <td>[]</td>\n",
       "      <td>[- Street frontage with excellent exposure- Ap...</td>\n",
       "      <td>NaN</td>\n",
       "      <td>1</td>\n",
       "      <td>1</td>\n",
       "      <td>0</td>\n",
       "    </tr>\n",
       "  </tbody>\n",
       "</table>\n",
       "</div>"
      ],
      "text/plain": [
       "                                                                                         name  \\\n",
       "https://www.domain.com.au/16b-sandy-mount-avenu...  16B Sandy Mount Avenue Inverloch VIC 3996   \n",
       "https://www.domain.com.au/28-beachcomber-drive-...    28 Beachcomber Drive Inverloch VIC 3996   \n",
       "https://www.domain.com.au/14-inverloch-parade-i...     14 Inverloch Parade Inverloch VIC 3996   \n",
       "https://www.domain.com.au/inverloch-vic-3996-14...                         Inverloch VIC 3996   \n",
       "https://www.domain.com.au/64-dixon-street-inver...         64 Dixon Street Inverloch VIC 3996   \n",
       "\n",
       "                                                           cost_text  \\\n",
       "https://www.domain.com.au/16b-sandy-mount-avenu...  $400.00 per week   \n",
       "https://www.domain.com.au/28-beachcomber-drive-...           $550 wk   \n",
       "https://www.domain.com.au/14-inverloch-parade-i...           $420 wk   \n",
       "https://www.domain.com.au/inverloch-vic-3996-14...           $475 wk   \n",
       "https://www.domain.com.au/64-dixon-street-inver...     Contact Agent   \n",
       "\n",
       "                                                                   coordinates  \\\n",
       "https://www.domain.com.au/16b-sandy-mount-avenu...   [-38.6340011, 145.725239]   \n",
       "https://www.domain.com.au/28-beachcomber-drive-...  [-38.6412502, 145.7031282]   \n",
       "https://www.domain.com.au/14-inverloch-parade-i...  [-38.6287143, 145.7358082]   \n",
       "https://www.domain.com.au/inverloch-vic-3996-14...  [-38.6314613, 145.7293638]   \n",
       "https://www.domain.com.au/64-dixon-street-inver...   [-38.6313719, 145.717275]   \n",
       "\n",
       "                                                                                 rooms  \\\n",
       "https://www.domain.com.au/16b-sandy-mount-avenu...   [[2 Beds], [1 Bath], [1 Parking]]   \n",
       "https://www.domain.com.au/28-beachcomber-drive-...           [[4 Beds], [2 Baths], []]   \n",
       "https://www.domain.com.au/14-inverloch-parade-i...            [[2 Beds], [1 Bath], []]   \n",
       "https://www.domain.com.au/inverloch-vic-3996-14...  [[3 Beds], [2 Baths], [1 Parking]]   \n",
       "https://www.domain.com.au/64-dixon-street-inver...             [[1 Bed], [1 Bath], []]   \n",
       "\n",
       "                                                    area   type  bond  \\\n",
       "https://www.domain.com.au/16b-sandy-mount-avenu...  None  House  1738   \n",
       "https://www.domain.com.au/28-beachcomber-drive-...  None  House  2390   \n",
       "https://www.domain.com.au/14-inverloch-parade-i...  None  House  1820   \n",
       "https://www.domain.com.au/inverloch-vic-3996-14...  None  House  2065   \n",
       "https://www.domain.com.au/64-dixon-street-inver...   200  House   200   \n",
       "\n",
       "                                                                                             features  \\\n",
       "https://www.domain.com.au/16b-sandy-mount-avenu...                                                 []   \n",
       "https://www.domain.com.au/28-beachcomber-drive-...                                                 []   \n",
       "https://www.domain.com.au/14-inverloch-parade-i...             [Garden, Split System AC, Floorboards]   \n",
       "https://www.domain.com.au/inverloch-vic-3996-14...  [Ensuite, Garden, Split System AC, Outdoor Ent...   \n",
       "https://www.domain.com.au/64-dixon-street-inver...                                     [Solar panels]   \n",
       "\n",
       "                                                                                  unverified_features  \\\n",
       "https://www.domain.com.au/16b-sandy-mount-avenu...  [Built in wardrobes, Internal Laundry, Secure ...   \n",
       "https://www.domain.com.au/28-beachcomber-drive-...  [Gas, Internal Laundry, Secure Parking, Furnis...   \n",
       "https://www.domain.com.au/14-inverloch-parade-i...                        [Internal Laundry, Heating]   \n",
       "https://www.domain.com.au/inverloch-vic-3996-14...                                          [Heating]   \n",
       "https://www.domain.com.au/64-dixon-street-inver...                                                 []   \n",
       "\n",
       "                                                                                                 desc  \\\n",
       "https://www.domain.com.au/16b-sandy-mount-avenu...  [This spacious, two bedroom townhouse is perfe...   \n",
       "https://www.domain.com.au/28-beachcomber-drive-...  [The popular Beachcomber estate offers you mod...   \n",
       "https://www.domain.com.au/14-inverloch-parade-i...  [This two bedroom, 1 bathroom home will surely...   \n",
       "https://www.domain.com.au/inverloch-vic-3996-14...  [Neat 3 bedroom home located in the immaculate...   \n",
       "https://www.domain.com.au/64-dixon-street-inver...  [- Street frontage with excellent exposure- Ap...   \n",
       "\n",
       "                                                   costs beds baths parking  \n",
       "https://www.domain.com.au/16b-sandy-mount-avenu...   400    2     1       1  \n",
       "https://www.domain.com.au/28-beachcomber-drive-...   550    4     2       0  \n",
       "https://www.domain.com.au/14-inverloch-parade-i...   420    2     1       0  \n",
       "https://www.domain.com.au/inverloch-vic-3996-14...   475    3     2       1  \n",
       "https://www.domain.com.au/64-dixon-street-inver...   NaN    1     1       0  "
      ]
     },
     "execution_count": 8,
     "metadata": {},
     "output_type": "execute_result"
    }
   ],
   "source": [
    "df.tail()"
   ]
  },
  {
   "cell_type": "code",
   "execution_count": 7,
   "metadata": {},
   "outputs": [],
   "source": [
    "df.to_csv('../data/raw_data/properties.csv',index = False)"
   ]
  }
 ],
 "metadata": {
  "kernelspec": {
   "display_name": "Python 3.7.13 ('ads': conda)",
   "language": "python",
   "name": "python3"
  },
  "language_info": {
   "codemirror_mode": {
    "name": "ipython",
    "version": 3
   },
   "file_extension": ".py",
   "mimetype": "text/x-python",
   "name": "python",
   "nbconvert_exporter": "python",
   "pygments_lexer": "ipython3",
   "version": "3.7.13"
  },
  "orig_nbformat": 4,
  "vscode": {
   "interpreter": {
    "hash": "a28aa2810793d8efd95800751be1a77a31e67b332a24775101e42ef2e09877bc"
   }
  }
 },
 "nbformat": 4,
 "nbformat_minor": 2
}
