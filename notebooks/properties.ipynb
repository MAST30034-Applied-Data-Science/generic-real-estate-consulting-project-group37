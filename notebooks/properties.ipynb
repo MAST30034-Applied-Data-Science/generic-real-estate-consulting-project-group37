{
 "cells": [
  {
   "cell_type": "code",
   "execution_count": 1,
   "metadata": {},
   "outputs": [],
   "source": [
    "import re\n",
    "import math\n",
    "import pandas as pd\n",
    "import numpy as np\n",
    "import seaborn as sns\n",
    "import matplotlib.pyplot as plt\n"
   ]
  },
  {
   "cell_type": "code",
   "execution_count": 2,
   "metadata": {},
   "outputs": [],
   "source": [
    "#load rental properties data\n",
    "df = pd.read_json('../data/raw_data/properties.json').T"
   ]
  },
  {
   "cell_type": "code",
   "execution_count": 3,
   "metadata": {},
   "outputs": [],
   "source": [
    "#drop any duplicate instances\n",
    "df = df[~df.index.duplicated(keep = 'first')]"
   ]
  },
  {
   "cell_type": "code",
   "execution_count": 4,
   "metadata": {},
   "outputs": [
    {
     "data": {
      "text/plain": [
       "(15236, 10)"
      ]
     },
     "execution_count": 4,
     "metadata": {},
     "output_type": "execute_result"
    }
   ],
   "source": [
    "df.shape"
   ]
  },
  {
   "cell_type": "code",
   "execution_count": 5,
   "metadata": {},
   "outputs": [
    {
     "data": {
      "text/html": [
       "<div>\n",
       "<style scoped>\n",
       "    .dataframe tbody tr th:only-of-type {\n",
       "        vertical-align: middle;\n",
       "    }\n",
       "\n",
       "    .dataframe tbody tr th {\n",
       "        vertical-align: top;\n",
       "    }\n",
       "\n",
       "    .dataframe thead th {\n",
       "        text-align: right;\n",
       "    }\n",
       "</style>\n",
       "<table border=\"1\" class=\"dataframe\">\n",
       "  <thead>\n",
       "    <tr style=\"text-align: right;\">\n",
       "      <th></th>\n",
       "      <th>name</th>\n",
       "      <th>cost_text</th>\n",
       "      <th>coordinates</th>\n",
       "      <th>rooms</th>\n",
       "      <th>area</th>\n",
       "      <th>type</th>\n",
       "      <th>bond</th>\n",
       "      <th>features</th>\n",
       "      <th>unverified_features</th>\n",
       "      <th>desc</th>\n",
       "    </tr>\n",
       "  </thead>\n",
       "  <tbody>\n",
       "    <tr>\n",
       "      <th>https://www.domain.com.au/16b-sandy-mount-avenue-inverloch-vic-3996-16006035</th>\n",
       "      <td>16B Sandy Mount Avenue Inverloch VIC 3996</td>\n",
       "      <td>$400.00 per week</td>\n",
       "      <td>[-38.6340011, 145.725239]</td>\n",
       "      <td>[[2 Beds], [1 Bath], [1 Parking]]</td>\n",
       "      <td>None</td>\n",
       "      <td>House</td>\n",
       "      <td>1738</td>\n",
       "      <td>[]</td>\n",
       "      <td>[Built in wardrobes, Internal Laundry, Secure ...</td>\n",
       "      <td>[This spacious, two bedroom townhouse is perfe...</td>\n",
       "    </tr>\n",
       "    <tr>\n",
       "      <th>https://www.domain.com.au/28-beachcomber-drive-inverloch-vic-3996-15920343</th>\n",
       "      <td>28 Beachcomber Drive Inverloch VIC 3996</td>\n",
       "      <td>$550 wk</td>\n",
       "      <td>[-38.6412502, 145.7031282]</td>\n",
       "      <td>[[4 Beds], [2 Baths], []]</td>\n",
       "      <td>None</td>\n",
       "      <td>House</td>\n",
       "      <td>2390</td>\n",
       "      <td>[]</td>\n",
       "      <td>[Gas, Internal Laundry, Secure Parking, Furnis...</td>\n",
       "      <td>[The popular Beachcomber estate offers you mod...</td>\n",
       "    </tr>\n",
       "    <tr>\n",
       "      <th>https://www.domain.com.au/14-inverloch-parade-inverloch-vic-3996-16040296</th>\n",
       "      <td>14 Inverloch Parade Inverloch VIC 3996</td>\n",
       "      <td>$420 wk</td>\n",
       "      <td>[-38.6287143, 145.7358082]</td>\n",
       "      <td>[[2 Beds], [1 Bath], []]</td>\n",
       "      <td>None</td>\n",
       "      <td>House</td>\n",
       "      <td>1820</td>\n",
       "      <td>[Garden, Split System AC, Floorboards]</td>\n",
       "      <td>[Internal Laundry, Heating]</td>\n",
       "      <td>[This two bedroom, 1 bathroom home will surely...</td>\n",
       "    </tr>\n",
       "    <tr>\n",
       "      <th>https://www.domain.com.au/inverloch-vic-3996-14434367</th>\n",
       "      <td>Inverloch VIC 3996</td>\n",
       "      <td>$475 wk</td>\n",
       "      <td>[-38.6314613, 145.7293638]</td>\n",
       "      <td>[[3 Beds], [2 Baths], [1 Parking]]</td>\n",
       "      <td>None</td>\n",
       "      <td>House</td>\n",
       "      <td>2065</td>\n",
       "      <td>[Ensuite, Garden, Split System AC, Outdoor Ent...</td>\n",
       "      <td>[Heating]</td>\n",
       "      <td>[Neat 3 bedroom home located in the immaculate...</td>\n",
       "    </tr>\n",
       "    <tr>\n",
       "      <th>https://www.domain.com.au/64-dixon-street-inverloch-vic-3996-15951739</th>\n",
       "      <td>64 Dixon Street Inverloch VIC 3996</td>\n",
       "      <td>Contact Agent</td>\n",
       "      <td>[-38.6313719, 145.717275]</td>\n",
       "      <td>[[1 Bed], [1 Bath], []]</td>\n",
       "      <td>200</td>\n",
       "      <td>House</td>\n",
       "      <td>200</td>\n",
       "      <td>[Solar panels]</td>\n",
       "      <td>[]</td>\n",
       "      <td>[- Street frontage with excellent exposure- Ap...</td>\n",
       "    </tr>\n",
       "  </tbody>\n",
       "</table>\n",
       "</div>"
      ],
      "text/plain": [
       "                                                                                         name  \\\n",
       "https://www.domain.com.au/16b-sandy-mount-avenu...  16B Sandy Mount Avenue Inverloch VIC 3996   \n",
       "https://www.domain.com.au/28-beachcomber-drive-...    28 Beachcomber Drive Inverloch VIC 3996   \n",
       "https://www.domain.com.au/14-inverloch-parade-i...     14 Inverloch Parade Inverloch VIC 3996   \n",
       "https://www.domain.com.au/inverloch-vic-3996-14...                         Inverloch VIC 3996   \n",
       "https://www.domain.com.au/64-dixon-street-inver...         64 Dixon Street Inverloch VIC 3996   \n",
       "\n",
       "                                                           cost_text  \\\n",
       "https://www.domain.com.au/16b-sandy-mount-avenu...  $400.00 per week   \n",
       "https://www.domain.com.au/28-beachcomber-drive-...           $550 wk   \n",
       "https://www.domain.com.au/14-inverloch-parade-i...           $420 wk   \n",
       "https://www.domain.com.au/inverloch-vic-3996-14...           $475 wk   \n",
       "https://www.domain.com.au/64-dixon-street-inver...     Contact Agent   \n",
       "\n",
       "                                                                   coordinates  \\\n",
       "https://www.domain.com.au/16b-sandy-mount-avenu...   [-38.6340011, 145.725239]   \n",
       "https://www.domain.com.au/28-beachcomber-drive-...  [-38.6412502, 145.7031282]   \n",
       "https://www.domain.com.au/14-inverloch-parade-i...  [-38.6287143, 145.7358082]   \n",
       "https://www.domain.com.au/inverloch-vic-3996-14...  [-38.6314613, 145.7293638]   \n",
       "https://www.domain.com.au/64-dixon-street-inver...   [-38.6313719, 145.717275]   \n",
       "\n",
       "                                                                                 rooms  \\\n",
       "https://www.domain.com.au/16b-sandy-mount-avenu...   [[2 Beds], [1 Bath], [1 Parking]]   \n",
       "https://www.domain.com.au/28-beachcomber-drive-...           [[4 Beds], [2 Baths], []]   \n",
       "https://www.domain.com.au/14-inverloch-parade-i...            [[2 Beds], [1 Bath], []]   \n",
       "https://www.domain.com.au/inverloch-vic-3996-14...  [[3 Beds], [2 Baths], [1 Parking]]   \n",
       "https://www.domain.com.au/64-dixon-street-inver...             [[1 Bed], [1 Bath], []]   \n",
       "\n",
       "                                                    area   type  bond  \\\n",
       "https://www.domain.com.au/16b-sandy-mount-avenu...  None  House  1738   \n",
       "https://www.domain.com.au/28-beachcomber-drive-...  None  House  2390   \n",
       "https://www.domain.com.au/14-inverloch-parade-i...  None  House  1820   \n",
       "https://www.domain.com.au/inverloch-vic-3996-14...  None  House  2065   \n",
       "https://www.domain.com.au/64-dixon-street-inver...   200  House   200   \n",
       "\n",
       "                                                                                             features  \\\n",
       "https://www.domain.com.au/16b-sandy-mount-avenu...                                                 []   \n",
       "https://www.domain.com.au/28-beachcomber-drive-...                                                 []   \n",
       "https://www.domain.com.au/14-inverloch-parade-i...             [Garden, Split System AC, Floorboards]   \n",
       "https://www.domain.com.au/inverloch-vic-3996-14...  [Ensuite, Garden, Split System AC, Outdoor Ent...   \n",
       "https://www.domain.com.au/64-dixon-street-inver...                                     [Solar panels]   \n",
       "\n",
       "                                                                                  unverified_features  \\\n",
       "https://www.domain.com.au/16b-sandy-mount-avenu...  [Built in wardrobes, Internal Laundry, Secure ...   \n",
       "https://www.domain.com.au/28-beachcomber-drive-...  [Gas, Internal Laundry, Secure Parking, Furnis...   \n",
       "https://www.domain.com.au/14-inverloch-parade-i...                        [Internal Laundry, Heating]   \n",
       "https://www.domain.com.au/inverloch-vic-3996-14...                                          [Heating]   \n",
       "https://www.domain.com.au/64-dixon-street-inver...                                                 []   \n",
       "\n",
       "                                                                                                 desc  \n",
       "https://www.domain.com.au/16b-sandy-mount-avenu...  [This spacious, two bedroom townhouse is perfe...  \n",
       "https://www.domain.com.au/28-beachcomber-drive-...  [The popular Beachcomber estate offers you mod...  \n",
       "https://www.domain.com.au/14-inverloch-parade-i...  [This two bedroom, 1 bathroom home will surely...  \n",
       "https://www.domain.com.au/inverloch-vic-3996-14...  [Neat 3 bedroom home located in the immaculate...  \n",
       "https://www.domain.com.au/64-dixon-street-inver...  [- Street frontage with excellent exposure- Ap...  "
      ]
     },
     "execution_count": 5,
     "metadata": {},
     "output_type": "execute_result"
    }
   ],
   "source": [
    "df.tail()"
   ]
  },
  {
   "cell_type": "code",
   "execution_count": 6,
   "metadata": {},
   "outputs": [],
   "source": [
    "#extract costs\n",
    "df[\"costs\"] = df[\"cost_text\"].str.extract(r'(\\d+\\,*\\d*)')"
   ]
  },
  {
   "cell_type": "code",
   "execution_count": 7,
   "metadata": {},
   "outputs": [],
   "source": [
    "#drop \",\" in costs \n",
    "df[\"costs\"] = df[\"costs\"].apply(lambda x : str(x).replace(',', ''))"
   ]
  },
  {
   "cell_type": "code",
   "execution_count": 8,
   "metadata": {},
   "outputs": [],
   "source": [
    "#extract number of beds,number of bathrooms and number of parking\n",
    "\n",
    "rooms = [\"beds\",\"baths\",\"parking\"]\n",
    "for i in range(len(rooms)):\n",
    "    df[rooms[i]] = df[\"rooms\"].str[i].str[0].str.extract(r'(\\d+)')\n",
    "    df[rooms[i]] = df[rooms[i]].fillna(0)\n"
   ]
  },
  {
   "cell_type": "code",
   "execution_count": 9,
   "metadata": {},
   "outputs": [],
   "source": [
    "#After extracting the features of number of beds, baths and parking, drop the \"rooms\" column\n",
    "df.drop(\"rooms\", axis=1, inplace=True)"
   ]
  },
  {
   "cell_type": "code",
   "execution_count": 10,
   "metadata": {},
   "outputs": [],
   "source": [
    "#convert data type to numeric\n",
    "df[[\"costs\", \"bond\",\"beds\",\"baths\",\"parking\"]] = df[[\"costs\",\"bond\",\"beds\",\"baths\",\"parking\"]].apply(pd.to_numeric,errors='coerce')"
   ]
  },
  {
   "cell_type": "code",
   "execution_count": 11,
   "metadata": {},
   "outputs": [
    {
     "data": {
      "text/plain": [
       "name                       0\n",
       "cost_text                  0\n",
       "coordinates                0\n",
       "area                   14280\n",
       "type                       0\n",
       "bond                    1125\n",
       "features                   0\n",
       "unverified_features        0\n",
       "desc                       0\n",
       "costs                    350\n",
       "beds                       0\n",
       "baths                      0\n",
       "parking                    0\n",
       "dtype: int64"
      ]
     },
     "execution_count": 11,
     "metadata": {},
     "output_type": "execute_result"
    }
   ],
   "source": [
    "#check missing values\n",
    "df.isnull().sum()"
   ]
  },
  {
   "cell_type": "code",
   "execution_count": 12,
   "metadata": {},
   "outputs": [],
   "source": [
    "#As there are too many missing data for internal area, we may drop that feature\n",
    "df.drop(\"area\", axis=1, inplace=True)\n"
   ]
  },
  {
   "cell_type": "code",
   "execution_count": 13,
   "metadata": {},
   "outputs": [
    {
     "data": {
      "text/plain": [
       "count    1.488600e+04\n",
       "mean     8.217568e+02\n",
       "std      3.383780e+04\n",
       "min      1.000000e+00\n",
       "25%      3.850000e+02\n",
       "50%      4.500000e+02\n",
       "75%      5.650000e+02\n",
       "max      4.125000e+06\n",
       "Name: costs, dtype: float64"
      ]
     },
     "execution_count": 13,
     "metadata": {},
     "output_type": "execute_result"
    }
   ],
   "source": [
    "#check the distribution of costs $/pw\n",
    "df[\"costs\"].describe()"
   ]
  },
  {
   "cell_type": "code",
   "execution_count": 14,
   "metadata": {},
   "outputs": [
    {
     "data": {
      "text/plain": [
       "count     14111.000000\n",
       "mean       2262.618808\n",
       "std        2765.222599\n",
       "min           1.000000\n",
       "25%        1651.000000\n",
       "50%        1955.000000\n",
       "75%        2433.000000\n",
       "max      282440.000000\n",
       "Name: bond, dtype: float64"
      ]
     },
     "execution_count": 14,
     "metadata": {},
     "output_type": "execute_result"
    }
   ],
   "source": [
    "#check the distributin of bonds $\n",
    "df[\"bond\"].describe()"
   ]
  },
  {
   "cell_type": "code",
   "execution_count": 15,
   "metadata": {},
   "outputs": [
    {
     "data": {
      "text/plain": [
       "Text(0.5, 0, 'number of Beds')"
      ]
     },
     "execution_count": 15,
     "metadata": {},
     "output_type": "execute_result"
    },
    {
     "data": {
      "image/png": "[encoded data removed]",
      "text/plain": [
       "<Figure size 432x288 with 1 Axes>"
      ]
     },
     "metadata": {
      "needs_background": "light"
     },
     "output_type": "display_data"
    }
   ],
   "source": [
    "#check \n",
    "plt.hist(df.beds) \n",
    "plt.title(\"Number of beds per rental property\")\n",
    "plt.ylabel('Counts')\n",
    "plt.xlabel('number of Beds')"
   ]
  },
  {
   "cell_type": "code",
   "execution_count": 16,
   "metadata": {},
   "outputs": [
    {
     "data": {
      "text/plain": [
       "Text(0.5, 0, 'number of Baths')"
      ]
     },
     "execution_count": 16,
     "metadata": {},
     "output_type": "execute_result"
    },
    {
     "data": {
      "image/png": "[encoded data removed]",
      "text/plain": [
       "<Figure size 432x288 with 1 Axes>"
      ]
     },
     "metadata": {
      "needs_background": "light"
     },
     "output_type": "display_data"
    }
   ],
   "source": [
    "plt.hist(df.baths) \n",
    "plt.title(\"Number of baths per rental property\")\n",
    "plt.ylabel('Counts')\n",
    "plt.xlabel('number of Baths')"
   ]
  },
  {
   "cell_type": "code",
   "execution_count": 17,
   "metadata": {},
   "outputs": [
    {
     "data": {
      "text/plain": [
       "Text(0.5, 0, 'number of parking')"
      ]
     },
     "execution_count": 17,
     "metadata": {},
     "output_type": "execute_result"
    },
    {
     "data": {
      "image/png": "[encoded data removed]",
      "text/plain": [
       "<Figure size 432x288 with 1 Axes>"
      ]
     },
     "metadata": {
      "needs_background": "light"
     },
     "output_type": "display_data"
    }
   ],
   "source": [
    "plt.hist(df.parking) \n",
    "plt.title(\"Number of parking per rental property\")\n",
    "plt.ylabel('Counts')\n",
    "plt.xlabel('number of parking')"
   ]
  },
  {
   "cell_type": "code",
   "execution_count": 18,
   "metadata": {},
   "outputs": [
    {
     "data": {
      "text/html": [
       "<div>\n",
       "<style scoped>\n",
       "    .dataframe tbody tr th:only-of-type {\n",
       "        vertical-align: middle;\n",
       "    }\n",
       "\n",
       "    .dataframe tbody tr th {\n",
       "        vertical-align: top;\n",
       "    }\n",
       "\n",
       "    .dataframe thead th {\n",
       "        text-align: right;\n",
       "    }\n",
       "</style>\n",
       "<table border=\"1\" class=\"dataframe\">\n",
       "  <thead>\n",
       "    <tr style=\"text-align: right;\">\n",
       "      <th></th>\n",
       "      <th>name</th>\n",
       "      <th>cost_text</th>\n",
       "      <th>coordinates</th>\n",
       "      <th>type</th>\n",
       "      <th>bond</th>\n",
       "      <th>features</th>\n",
       "      <th>unverified_features</th>\n",
       "      <th>desc</th>\n",
       "      <th>costs</th>\n",
       "      <th>beds</th>\n",
       "      <th>baths</th>\n",
       "      <th>parking</th>\n",
       "    </tr>\n",
       "  </thead>\n",
       "  <tbody>\n",
       "    <tr>\n",
       "      <th>https://www.domain.com.au/16b-sandy-mount-avenue-inverloch-vic-3996-16006035</th>\n",
       "      <td>16B Sandy Mount Avenue Inverloch VIC 3996</td>\n",
       "      <td>$400.00 per week</td>\n",
       "      <td>[-38.6340011, 145.725239]</td>\n",
       "      <td>House</td>\n",
       "      <td>1738.0</td>\n",
       "      <td>[]</td>\n",
       "      <td>[Built in wardrobes, Internal Laundry, Secure ...</td>\n",
       "      <td>[This spacious, two bedroom townhouse is perfe...</td>\n",
       "      <td>400.0</td>\n",
       "      <td>2</td>\n",
       "      <td>1</td>\n",
       "      <td>1</td>\n",
       "    </tr>\n",
       "    <tr>\n",
       "      <th>https://www.domain.com.au/28-beachcomber-drive-inverloch-vic-3996-15920343</th>\n",
       "      <td>28 Beachcomber Drive Inverloch VIC 3996</td>\n",
       "      <td>$550 wk</td>\n",
       "      <td>[-38.6412502, 145.7031282]</td>\n",
       "      <td>House</td>\n",
       "      <td>2390.0</td>\n",
       "      <td>[]</td>\n",
       "      <td>[Gas, Internal Laundry, Secure Parking, Furnis...</td>\n",
       "      <td>[The popular Beachcomber estate offers you mod...</td>\n",
       "      <td>550.0</td>\n",
       "      <td>4</td>\n",
       "      <td>2</td>\n",
       "      <td>0</td>\n",
       "    </tr>\n",
       "    <tr>\n",
       "      <th>https://www.domain.com.au/14-inverloch-parade-inverloch-vic-3996-16040296</th>\n",
       "      <td>14 Inverloch Parade Inverloch VIC 3996</td>\n",
       "      <td>$420 wk</td>\n",
       "      <td>[-38.6287143, 145.7358082]</td>\n",
       "      <td>House</td>\n",
       "      <td>1820.0</td>\n",
       "      <td>[Garden, Split System AC, Floorboards]</td>\n",
       "      <td>[Internal Laundry, Heating]</td>\n",
       "      <td>[This two bedroom, 1 bathroom home will surely...</td>\n",
       "      <td>420.0</td>\n",
       "      <td>2</td>\n",
       "      <td>1</td>\n",
       "      <td>0</td>\n",
       "    </tr>\n",
       "    <tr>\n",
       "      <th>https://www.domain.com.au/inverloch-vic-3996-14434367</th>\n",
       "      <td>Inverloch VIC 3996</td>\n",
       "      <td>$475 wk</td>\n",
       "      <td>[-38.6314613, 145.7293638]</td>\n",
       "      <td>House</td>\n",
       "      <td>2065.0</td>\n",
       "      <td>[Ensuite, Garden, Split System AC, Outdoor Ent...</td>\n",
       "      <td>[Heating]</td>\n",
       "      <td>[Neat 3 bedroom home located in the immaculate...</td>\n",
       "      <td>475.0</td>\n",
       "      <td>3</td>\n",
       "      <td>2</td>\n",
       "      <td>1</td>\n",
       "    </tr>\n",
       "    <tr>\n",
       "      <th>https://www.domain.com.au/64-dixon-street-inverloch-vic-3996-15951739</th>\n",
       "      <td>64 Dixon Street Inverloch VIC 3996</td>\n",
       "      <td>Contact Agent</td>\n",
       "      <td>[-38.6313719, 145.717275]</td>\n",
       "      <td>House</td>\n",
       "      <td>200.0</td>\n",
       "      <td>[Solar panels]</td>\n",
       "      <td>[]</td>\n",
       "      <td>[- Street frontage with excellent exposure- Ap...</td>\n",
       "      <td>NaN</td>\n",
       "      <td>1</td>\n",
       "      <td>1</td>\n",
       "      <td>0</td>\n",
       "    </tr>\n",
       "  </tbody>\n",
       "</table>\n",
       "</div>"
      ],
      "text/plain": [
       "                                                                                         name  \\\n",
       "https://www.domain.com.au/16b-sandy-mount-avenu...  16B Sandy Mount Avenue Inverloch VIC 3996   \n",
       "https://www.domain.com.au/28-beachcomber-drive-...    28 Beachcomber Drive Inverloch VIC 3996   \n",
       "https://www.domain.com.au/14-inverloch-parade-i...     14 Inverloch Parade Inverloch VIC 3996   \n",
       "https://www.domain.com.au/inverloch-vic-3996-14...                         Inverloch VIC 3996   \n",
       "https://www.domain.com.au/64-dixon-street-inver...         64 Dixon Street Inverloch VIC 3996   \n",
       "\n",
       "                                                           cost_text  \\\n",
       "https://www.domain.com.au/16b-sandy-mount-avenu...  $400.00 per week   \n",
       "https://www.domain.com.au/28-beachcomber-drive-...           $550 wk   \n",
       "https://www.domain.com.au/14-inverloch-parade-i...           $420 wk   \n",
       "https://www.domain.com.au/inverloch-vic-3996-14...           $475 wk   \n",
       "https://www.domain.com.au/64-dixon-street-inver...     Contact Agent   \n",
       "\n",
       "                                                                   coordinates  \\\n",
       "https://www.domain.com.au/16b-sandy-mount-avenu...   [-38.6340011, 145.725239]   \n",
       "https://www.domain.com.au/28-beachcomber-drive-...  [-38.6412502, 145.7031282]   \n",
       "https://www.domain.com.au/14-inverloch-parade-i...  [-38.6287143, 145.7358082]   \n",
       "https://www.domain.com.au/inverloch-vic-3996-14...  [-38.6314613, 145.7293638]   \n",
       "https://www.domain.com.au/64-dixon-street-inver...   [-38.6313719, 145.717275]   \n",
       "\n",
       "                                                     type    bond  \\\n",
       "https://www.domain.com.au/16b-sandy-mount-avenu...  House  1738.0   \n",
       "https://www.domain.com.au/28-beachcomber-drive-...  House  2390.0   \n",
       "https://www.domain.com.au/14-inverloch-parade-i...  House  1820.0   \n",
       "https://www.domain.com.au/inverloch-vic-3996-14...  House  2065.0   \n",
       "https://www.domain.com.au/64-dixon-street-inver...  House   200.0   \n",
       "\n",
       "                                                                                             features  \\\n",
       "https://www.domain.com.au/16b-sandy-mount-avenu...                                                 []   \n",
       "https://www.domain.com.au/28-beachcomber-drive-...                                                 []   \n",
       "https://www.domain.com.au/14-inverloch-parade-i...             [Garden, Split System AC, Floorboards]   \n",
       "https://www.domain.com.au/inverloch-vic-3996-14...  [Ensuite, Garden, Split System AC, Outdoor Ent...   \n",
       "https://www.domain.com.au/64-dixon-street-inver...                                     [Solar panels]   \n",
       "\n",
       "                                                                                  unverified_features  \\\n",
       "https://www.domain.com.au/16b-sandy-mount-avenu...  [Built in wardrobes, Internal Laundry, Secure ...   \n",
       "https://www.domain.com.au/28-beachcomber-drive-...  [Gas, Internal Laundry, Secure Parking, Furnis...   \n",
       "https://www.domain.com.au/14-inverloch-parade-i...                        [Internal Laundry, Heating]   \n",
       "https://www.domain.com.au/inverloch-vic-3996-14...                                          [Heating]   \n",
       "https://www.domain.com.au/64-dixon-street-inver...                                                 []   \n",
       "\n",
       "                                                                                                 desc  \\\n",
       "https://www.domain.com.au/16b-sandy-mount-avenu...  [This spacious, two bedroom townhouse is perfe...   \n",
       "https://www.domain.com.au/28-beachcomber-drive-...  [The popular Beachcomber estate offers you mod...   \n",
       "https://www.domain.com.au/14-inverloch-parade-i...  [This two bedroom, 1 bathroom home will surely...   \n",
       "https://www.domain.com.au/inverloch-vic-3996-14...  [Neat 3 bedroom home located in the immaculate...   \n",
       "https://www.domain.com.au/64-dixon-street-inver...  [- Street frontage with excellent exposure- Ap...   \n",
       "\n",
       "                                                    costs  beds  baths  \\\n",
       "https://www.domain.com.au/16b-sandy-mount-avenu...  400.0     2      1   \n",
       "https://www.domain.com.au/28-beachcomber-drive-...  550.0     4      2   \n",
       "https://www.domain.com.au/14-inverloch-parade-i...  420.0     2      1   \n",
       "https://www.domain.com.au/inverloch-vic-3996-14...  475.0     3      2   \n",
       "https://www.domain.com.au/64-dixon-street-inver...    NaN     1      1   \n",
       "\n",
       "                                                    parking  \n",
       "https://www.domain.com.au/16b-sandy-mount-avenu...        1  \n",
       "https://www.domain.com.au/28-beachcomber-drive-...        0  \n",
       "https://www.domain.com.au/14-inverloch-parade-i...        0  \n",
       "https://www.domain.com.au/inverloch-vic-3996-14...        1  \n",
       "https://www.domain.com.au/64-dixon-street-inver...        0  "
      ]
     },
     "execution_count": 18,
     "metadata": {},
     "output_type": "execute_result"
    }
   ],
   "source": [
    "df.tail()"
   ]
  },
  {
   "cell_type": "code",
   "execution_count": 19,
   "metadata": {},
   "outputs": [],
   "source": [
    "df.to_csv('../data/raw_data/properties.csv',index = False)"
   ]
  }
 ],
 "metadata": {
  "kernelspec": {
   "display_name": "Python 3.7.13 ('ads': conda)",
   "language": "python",
   "name": "python3"
  },
  "language_info": {
   "codemirror_mode": {
    "name": "ipython",
    "version": 3
   },
   "file_extension": ".py",
   "mimetype": "text/x-python",
   "name": "python",
   "nbconvert_exporter": "python",
   "pygments_lexer": "ipython3",
   "version": "3.7.13"
  },
  "orig_nbformat": 4,
  "vscode": {
   "interpreter": {
    "hash": "a28aa2810793d8efd95800751be1a77a31e67b332a24775101e42ef2e09877bc"
   }
  }
 },
 "nbformat": 4,
 "nbformat_minor": 2
}
