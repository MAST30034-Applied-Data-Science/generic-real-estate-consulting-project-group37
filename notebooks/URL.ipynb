{
 "cells": [
  {
   "cell_type": "code",
   "execution_count": 4,
   "metadata": {},
   "outputs": [],
   "source": [
    "import os\n",
    "\n",
    "output_relative_dir = '../data/'\n",
    "\n",
    "\n",
    "file_url = open(\"../data/raw_data/URL.txt\", mode ='w')\n",
    "file_url.write(\"SA2 District Boundaries: https://www.abs.gov.au/statistics/standards/australian-statistical-geography-standard-asgs-edition-3/jul2021-jun2026/access-and-downloads/digital-boundary-files\" + \"\\n\")\n",
    "file_url.write(\"Total population by SA2: https://www.abs.gov.au/statistics/people/population/regional-population/2021/32180DS0001_2001-21.xlsx\" + \"\\n\")\n",
    "file_url.write(\"Total personal income (weekly) SA2: https://explore.data.abs.gov.au/vis?pg=0&df[ds]=CENSUS_2021_TOPICS&df[id]=C21_G17_SA2&df[ag]=ABS&df[vs]=1.0.0&hc[dataflowId]=C21_G17_SA2&tm=income%20SA2&pd=2021%2C&dq=._T._T..SA2.2&ly[rs]=REGION%2CSEXP\" + \"\\n\")\n",
    "file_url.write(\"Population Forecasting: https://www.planning.vic.gov.au/land-use-and-population-research/victoria-in-future/tab-pages/victoria-in-future-data-tables\" + \"\\n\")\n",
    "\n",
    "file_url.close()"
   ]
  },
  {
   "cell_type": "code",
   "execution_count": 5,
   "metadata": {},
   "outputs": [],
   "source": [
    "# Orginal codes are come from the tute1 file\n",
    "from urllib.request import urlretrieve\n",
    "\n",
    "# from the current `tute_1` directory, go back two levels to the `MAST30034` directory\n",
    "output_relative_dir = '../data/'\n",
    "\n",
    "# check if it exists as it makedir will raise an error if it does exist\n",
    "if not os.path.exists(output_relative_dir):\n",
    "    os.makedirs(output_relative_dir)\n",
    "    \n",
    "# now, for each type of data set we will need, we will create the paths\n",
    "for target_dir in ('curated', 'raw_data'): # taxi_zones should already exist\n",
    "    if not os.path.exists(output_relative_dir + target_dir):\n",
    "        os.makedirs(output_relative_dir + target_dir)"
   ]
  },
  {
   "cell_type": "code",
   "execution_count": 7,
   "metadata": {},
   "outputs": [
    {
     "data": {
      "text/plain": [
       "('../data/raw_data/population.csv',\n",
       " <http.client.HTTPMessage at 0x7f44a8375e80>)"
      ]
     },
     "execution_count": 7,
     "metadata": {},
     "output_type": "execute_result"
    }
   ],
   "source": [
    "dir = output_relative_dir + 'raw_data'\n",
    "URL_POPULATION = \"https://www.abs.gov.au/statistics/people/population/regional-population/2021/32180DS0001_2001-21.xlsx\"\n",
    "url = f'{URL_POPULATION}'\n",
    "output_dir = f\"{dir}/population.csv\"\n",
    "urlretrieve(url, output_dir) "
   ]
  },
  {
   "cell_type": "code",
   "execution_count": 8,
   "metadata": {},
   "outputs": [
    {
     "data": {
      "text/plain": [
       "('../data/raw_data/populationForecast.csv',\n",
       " <http.client.HTTPMessage at 0x7f44a8301880>)"
      ]
     },
     "execution_count": 8,
     "metadata": {},
     "output_type": "execute_result"
    }
   ],
   "source": [
    "URL_POPULATION_FORECAST = \"https://www.planning.vic.gov.au/__data/assets/excel_doc/0029/424388/VIF2019_Population_5y_ages_ASGS_2036.xlsx\"\n",
    "url = f'{URL_POPULATION_FORECAST}'\n",
    "output_dir = f\"{dir}/populationForecast.csv\"\n",
    "urlretrieve(url, output_dir) "
   ]
  },
  {
   "cell_type": "code",
   "execution_count": null,
   "metadata": {},
   "outputs": [],
   "source": [
    "# Adding SA2 boundary and personal income manually"
   ]
  }
 ],
 "metadata": {
  "kernelspec": {
   "display_name": "Python 3.8.10 64-bit",
   "language": "python",
   "name": "python3"
  },
  "language_info": {
   "codemirror_mode": {
    "name": "ipython",
    "version": 3
   },
   "file_extension": ".py",
   "mimetype": "text/x-python",
   "name": "python",
   "nbconvert_exporter": "python",
   "pygments_lexer": "ipython3",
   "version": "3.8.10"
  },
  "orig_nbformat": 4,
  "vscode": {
   "interpreter": {
    "hash": "916dbcbb3f70747c44a77c7bcd40155683ae19c65e1c03b4aa3499c5328201f1"
   }
  }
 },
 "nbformat": 4,
 "nbformat_minor": 2
}
