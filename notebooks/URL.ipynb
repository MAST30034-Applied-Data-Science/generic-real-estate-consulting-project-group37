{
 "cells": [
  {
   "cell_type": "code",
   "execution_count": 5,
   "metadata": {},
   "outputs": [],
   "source": [
    "import os\n",
    "\n",
    "output_relative_dir = '../data/'\n",
    "\n",
    "\n",
    "file_url = open(\"../data/raw/URL.txt\", mode ='a')\n",
    "file_url.write(\"SA2 District Boundaries: https://www.abs.gov.au/statistics/standards/australian-statistical-geography-standard-asgs-edition-3/jul2021-jun2026/access-and-downloads/digital-boundary-files\" + \"\\n\")\n",
    "file_url.write(\"Total population by SA2: https://www.abs.gov.au/statistics/people/population/regional-population/latest-release#data-download\" + \"\\n\")\n",
    "file_url.write(\"Total personal income (weekly) SA2: https://explore.data.abs.gov.au/vis?pg=0&df[ds]=CENSUS_2021_TOPICS&df[id]=C21_G17_SA2&df[ag]=ABS&df[vs]=1.0.0&hc[dataflowId]=C21_G17_SA2&tm=income%20SA2&pd=2021%2C&dq=._T._T..SA2.2&ly[rs]=REGION%2CSEXP\" + \"\\n\")\n",
    "file_url.write(\"Population Forecasting: https://www.planning.vic.gov.au/land-use-and-population-research/victoria-in-future/tab-pages/victoria-in-future-data-tables\" + \"\\n\")\n",
    "\n",
    "file_url.close()"
   ]
  }
 ],
 "metadata": {
  "kernelspec": {
   "display_name": "Python 3.8.10 64-bit",
   "language": "python",
   "name": "python3"
  },
  "language_info": {
   "codemirror_mode": {
    "name": "ipython",
    "version": 3
   },
   "file_extension": ".py",
   "mimetype": "text/x-python",
   "name": "python",
   "nbconvert_exporter": "python",
   "pygments_lexer": "ipython3",
   "version": "3.8.10"
  },
  "orig_nbformat": 4,
  "vscode": {
   "interpreter": {
    "hash": "916dbcbb3f70747c44a77c7bcd40155683ae19c65e1c03b4aa3499c5328201f1"
   }
  }
 },
 "nbformat": 4,
 "nbformat_minor": 2
}
