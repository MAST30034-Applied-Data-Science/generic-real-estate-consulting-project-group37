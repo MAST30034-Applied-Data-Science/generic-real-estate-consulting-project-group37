{
 "cells": [
  {
   "cell_type": "code",
   "execution_count": 13,
   "metadata": {},
   "outputs": [],
   "source": [
    "import pandas as pd\n",
    "import geopandas\n",
    "import glob\n",
    "import json\n",
    "import requests\n",
    "import time\n",
    "import openrouteservice\n",
    "import folium\n"
   ]
  },
  {
   "cell_type": "code",
   "execution_count": 14,
   "metadata": {},
   "outputs": [],
   "source": [
    "api_key = \"5b3ce3597851110001cf624889ed21ec0e164db492343160b18f1ece\""
   ]
  }
 ],
 "metadata": {
  "kernelspec": {
   "display_name": "Python 3.7.13 ('ads': conda)",
   "language": "python",
   "name": "python3"
  },
  "language_info": {
   "codemirror_mode": {
    "name": "ipython",
    "version": 3
   },
   "file_extension": ".py",
   "mimetype": "text/x-python",
   "name": "python",
   "nbconvert_exporter": "python",
   "pygments_lexer": "ipython3",
   "version": "3.7.13"
  },
  "orig_nbformat": 4,
  "vscode": {
   "interpreter": {
    "hash": "a28aa2810793d8efd95800751be1a77a31e67b332a24775101e42ef2e09877bc"
   }
  }
 },
 "nbformat": 4,
 "nbformat_minor": 2
}
